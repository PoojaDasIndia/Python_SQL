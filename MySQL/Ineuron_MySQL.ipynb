{
 "cells": [
  {
   "cell_type": "code",
   "execution_count": 3,
   "id": "61e6b28d-2e09-441a-b2a1-73fbc052fc99",
   "metadata": {},
   "outputs": [],
   "source": [
    "import mysql.connector as con"
   ]
  },
  {
   "cell_type": "code",
   "execution_count": null,
   "id": "560117de-00c8-4d41-a91d-17721aa20ca7",
   "metadata": {},
   "outputs": [],
   "source": [
    "# if database available this use   try -except\n",
    "try:\n",
    "    # connection\n",
    "    mydb = con.connect(host='localhost', user='root', password='poojadas1993')\n",
    "    print(\"Connection estiblished\")\n",
    "    # creating cursor object \n",
    "    # create a cursor to execute queries\n",
    "    cur = mydb.cursor()  # cur just object name\n",
    "\n",
    "    # create database\n",
    "    cur.execute(\"CREATE DATABASE Ineuron\")\n",
    "    print(\"DATABASE Created!!\")\n",
    "    mydb.close()\n",
    "# DROP DATABASE employeedemo\n",
    "\n",
    "except Exception as e:\n",
    "    mydb.close()\n",
    "    print(\"DATABASE  Already EXITED !!\")\n",
    "    print(str(e))\n"
   ]
  },
  {
   "cell_type": "code",
   "execution_count": null,
   "id": "a0db8307-9467-43f4-8d63-6244b68ba820",
   "metadata": {},
   "outputs": [],
   "source": [
    "import mysql.connector as con\n",
    "\n",
    "try:\n",
    "    # database k sath  connection\n",
    "    mydb = con.connect(\n",
    "        host='localhost',\n",
    "        user='root',\n",
    "        password='poojadas1993',\n",
    "        database='EmployeeDetail',\n",
    "\n",
    "    )\n",
    "    print(\"Connection esatalised\")\n",
    "\n",
    "    query = \"SELECT * FROM EmployeeDemo \"\n",
    "    # Extracting Table recorde    \n",
    "    cur = mydb.cursor()\n",
    "    cur.execute(query)\n",
    "\n",
    "    # fetchall() used to  extract all recorded in from of list of tuples\n",
    "    result = cur.fetchall()\n",
    "\n",
    "    # print result which is list of Tuple conatin by the help of for loop\n",
    "    for i in result:\n",
    "        print(i)\n",
    "\n",
    "    # fetchone()\n",
    "    # result= cur.fetchone()\n",
    "    # print(result)\n",
    "\n",
    "    mydb.close()\n",
    "\n",
    "except Exception as e:\n",
    "    mydb.close()\n",
    "    print(str(e))\n",
    "\n"
   ]
  },
  {
   "cell_type": "code",
   "execution_count": null,
   "id": "a3084145-f1b1-4f5c-98d8-be22cc377b82",
   "metadata": {},
   "outputs": [],
   "source": [
    "path=r\"C:/Desktop/Complete Python Module/19.2.MySQL/glass.data\""
   ]
  },
  {
   "cell_type": "code",
   "execution_count": null,
   "id": "13b21c80-7088-4efc-ad2a-eb83bf14518a",
   "metadata": {},
   "outputs": [],
   "source": [
    "import mysql.connector as con\n",
    "import pandas as pd\n",
    "import csv\n",
    "\n",
    "# if database available this use   try -except\n",
    "try:\n",
    "    # connection\n",
    "    mydb = con.connect(host='localhost', \n",
    "                       user='root',\n",
    "                       password='poojadas1993',\n",
    "                      database='Ineuron')\n",
    "    print(\"Connection estiblished\")\n",
    "    # creating cursor object \n",
    "    # create a cursor to execute queries\n",
    "    cur = mydb.cursor()  # cur just object name\n",
    "    \n",
    "    # create Table\n",
    "    \n",
    "    query=\"\"\"CREATE TABLE IF NOT EXISTS Ineuron.GlassData(Index_No Integer(10),\n",
    "                                                    RI Float(10,5),\n",
    "                                                    Na Float(10,5),\n",
    "                                                    Mg Float(10,5),\n",
    "                                                    Al Float(10,5),\n",
    "                                                    Si Float(10,5),\n",
    "                                                    K Float(10,5),\n",
    "                                                    Ca Float(10,5),\n",
    "                                                    Ba Float(10,5),\n",
    "                                                    Fe Float(10,5),\n",
    "                                                    Class Integer(10));\"\"\"\n",
    "   \n",
    "    cur.execute(query)\n",
    "    print(\"Table Created!!\")\n",
    "    \n",
    "    #read the csv file\n",
    "    with open('glass.data',mode='r') as f:\n",
    "        next(f)\n",
    "        data_csv= csv.reader(f,delimiter='\\n')\n",
    "        # print(data_csv)\n",
    "        for line in data_csv:\n",
    "            cur.execute(f\"INSERT INTO Ineuron.GlassData Values ({list_})\")\n",
    "    print(\"All data inserted\")\n",
    "    mydb.commit()\n",
    "    mydb.close()\n",
    "\n",
    "\n",
    "except Exception as e:\n",
    "    mydb.close()\n",
    "    print(str(e))\n"
   ]
  },
  {
   "cell_type": "code",
   "execution_count": 52,
   "id": "1fa33b70-17c0-4308-917f-0e3e2cc7ea60",
   "metadata": {},
   "outputs": [
    {
     "name": "stdout",
     "output_type": "stream",
     "text": [
      "INSERT INTO Ineuron.GlassData Values (1,1.52101,13.64,4.49,1.10,71.78,0.06,8.75,0.00,0.00,1)\n"
     ]
    }
   ],
   "source": [
    "with open('glass.data',mode='r') as f:\n",
    "        next(f)\n",
    "        data_csv= csv.reader(f,delimiter='\\n')\n",
    "        # print(data_csv)\n",
    "        for line in data_csv:\n",
    "            # for l in line[1]:\n",
    "            # print(line[0])\n",
    "            print(f\"INSERT INTO Ineuron.GlassData Values ({line[0]})\")\n",
    "            break"
   ]
  },
  {
   "cell_type": "code",
   "execution_count": null,
   "id": "7cf9f3e6-e2ca-463b-b6be-b2544924cc41",
   "metadata": {},
   "outputs": [],
   "source": [
    "Chiral indice n: n parameter of the selected chiral vector.\n",
    "Chiral indice m: n parameter of the selected chiral vector.\n",
    "Initial atomic coordinate u: Randomly generated u parameter of the initial atomic coordinates of all carbon atoms.\n",
    "Initial atomic coordinate v: Randomly generated v parameter of the initial atomic coordinates of all carbon atoms.\n",
    "Initial atomic coordinate w: Randomly generated w parameter of the initial atomic coordinates of all carbon atoms.\n",
    "Calculated atomic coordinate uâ€™: Calculated uâ€™ parameter of the atomic coordinates of all carbon atoms.\n",
    "Calculated atomic coordinate vâ€™: Calculated vâ€™ parameter of the atomic coordinates of all carbon atoms.\n",
    "Calculated atomic coordinate wâ€™: Calculated wâ€™ parameter of the atomic coordinates of all carbon atoms."
   ]
  },
  {
   "cell_type": "code",
   "execution_count": null,
   "id": "0e4a11da-afac-4107-b721-8ecc8a9c5be3",
   "metadata": {},
   "outputs": [],
   "source": [
    " mydb = con.connect(host='localhost', \n",
    "                       user='root',\n",
    "                       password='poojadas1993',\n",
    "                      database='Ineuron')\n",
    "print(\"Connection estiblished\")\n",
    "    # creating cursor object \n",
    "    # create a cursor to execute queries\n",
    "cur = mydb.cursor()\n",
    " \n",
    "cur.execute(\"SHOW TABLES\")\n",
    "cur.fetchall()"
   ]
  },
  {
   "cell_type": "code",
   "execution_count": null,
   "id": "0cfe8abc-9ff8-40df-b84d-ece9fbb97e03",
   "metadata": {},
   "outputs": [],
   "source": [
    "!ls"
   ]
  },
  {
   "cell_type": "raw",
   "id": "a992e5cf-80b5-4e89-809b-243e9c755789",
   "metadata": {},
   "source": [
    "with open('glass.data',mode='r') as f:\n",
    "    next(f)\n",
    "    data_csv= csv.reader(f,delimiter='\\n')\n",
    "    # print(data_csv)\n",
    "    for line in enumerate(data_csv):\n",
    "        for list_ in line[1]:\n",
    "            print(list_)\n",
    "            # cur.execute(f\"INSERT INTO Ineuron.GlassData Values ({list_})\";)\n",
    "#     print(\"all data inserted\")\n",
    "# mydb.commit()"
   ]
  },
  {
   "cell_type": "code",
   "execution_count": null,
   "id": "e2f51fab-905b-41cf-a4bb-03f300d5adc1",
   "metadata": {},
   "outputs": [],
   "source": [
    "!ls"
   ]
  },
  {
   "cell_type": "code",
   "execution_count": null,
   "id": "4ac8b07b-b74b-4555-9034-df3fe6c89665",
   "metadata": {},
   "outputs": [],
   "source": [
    "t=(1,[\"4\",\"8\"])"
   ]
  },
  {
   "cell_type": "code",
   "execution_count": null,
   "id": "a356745c-2dbe-48ea-841b-e2329db3d7b3",
   "metadata": {},
   "outputs": [],
   "source": [
    "for i in t:\n",
    "    print(i)"
   ]
  },
  {
   "cell_type": "code",
   "execution_count": null,
   "id": "67d121a0-06d0-45ad-8651-759f0c7a11ea",
   "metadata": {
    "jupyter": {
     "source_hidden": true
    },
    "tags": []
   },
   "outputs": [],
   "source": [
    "\",\".join([\"4\",\"8\"])"
   ]
  },
  {
   "cell_type": "code",
   "execution_count": 7,
   "id": "4aa1eed6-14e5-4871-87a3-b1be6795a688",
   "metadata": {},
   "outputs": [
    {
     "name": "stdout",
     "output_type": "stream",
     "text": [
      "('2', '1', '0,679005', '0,701318', '0,017033', '0,721039', '0,730232', '0,017014')\n"
     ]
    }
   ],
   "source": [
    "with open('carbon_nanotubes.csv',mode='r') as f:\n",
    "    next(f)\n",
    "    data_csv= csv.reader(f,delimiter=\";\")\n",
    "    # print(data_csv)\n",
    " \n",
    "    for  line in data_csv:\n",
    "        print(tuple(line))\n",
    "        break\n",
    "       "
   ]
  },
  {
   "cell_type": "code",
   "execution_count": 8,
   "id": "fa0bbeaa-6482-4bb2-80e3-85f05db0d204",
   "metadata": {},
   "outputs": [
    {
     "data": {
      "text/plain": [
       "0.679005"
      ]
     },
     "execution_count": 8,
     "metadata": {},
     "output_type": "execute_result"
    }
   ],
   "source": [
    "float(\"0.679005\")"
   ]
  },
  {
   "cell_type": "code",
   "execution_count": 9,
   "id": "9db5b9df-a609-4db1-9f66-3815df2aaf4a",
   "metadata": {},
   "outputs": [
    {
     "name": "stdout",
     "output_type": "stream",
     "text": [
      "INSERT INTO Ineuron.CarbonData Values(%d,%d,%s,%s,%s,%s,%s,%s) ('2', '1', '0,679005', '0,701318', '0,017033', '0,721039', '0,730232', '0,017014')\n"
     ]
    }
   ],
   "source": [
    "r=['2', '1', '0,679005','0,701318','0,017033','0,721039','0,730232','0,017014']\n",
    "\n",
    "print(\"INSERT INTO Ineuron.CarbonData Values(%d,%d,%s,%s,%s,%s,%s,%s)\",format(tuple(r)))\n",
    "   \n"
   ]
  },
  {
   "cell_type": "code",
   "execution_count": 10,
   "id": "e7b7d547-e3cd-4757-9d79-faa1e3960605",
   "metadata": {},
   "outputs": [
    {
     "name": "stdout",
     "output_type": "stream",
     "text": [
      "Connection estiblished\n",
      "Table Created!!\n",
      "All data inserted\n"
     ]
    }
   ],
   "source": [
    "import mysql.connector as con\n",
    "import pandas as pd\n",
    "import csv\n",
    "\n",
    "# if database available this use   try -except\n",
    "try:\n",
    "    # connection\n",
    "    mydb = con.connect(host='localhost', \n",
    "                       user='root',\n",
    "                       password='poojadas1993',\n",
    "                      database='Ineuron')\n",
    "    print(\"Connection estiblished\")\n",
    "    # creating cursor object \n",
    "    # create a cursor to execute queries\n",
    "    cur = mydb.cursor()  # cur just object name\n",
    "    \n",
    "    # create Table\n",
    "    \n",
    "    query=\"\"\"CREATE TABLE IF NOT EXISTS Ineuron.CarbonData(Chiral_indice_n Integer(15),\n",
    "                                                            Chiral_indice_m Integer(15),\n",
    "                                                            Initial_atomic_coordinate_u Varchar(200) ,\n",
    "                                                            Initial_atomic_coordinate_v Varchar(200),\n",
    "                                                            Initial_atomic_coordinate_w Varchar(200),\n",
    "                                                            Calculated_atomic_coordinates_u Varchar(200),\n",
    "                                                            Calculated_atomic_coordinates_v Varchar(200),\n",
    "                                                            Calculated_atomic_coordinates_w Varchar(200))\"\"\"\n",
    "   \n",
    "    cur.execute(query)\n",
    "    print(\"Table Created!!\")\n",
    "    \n",
    "    # #read the csv file\n",
    "    with open('carbon_nanotubes.csv',mode='r') as f:\n",
    "        next(f)\n",
    "        data_csv= csv.reader(f,delimiter=\"\\n\")\n",
    "       \n",
    "        for  line in data_csv:\n",
    "            line= ((line[0].replace(',',\".\")).replace(';',\",\")).split(\",\")\n",
    "            cur.execute(f\"INSERT INTO Ineuron.CarbonData Values({int(line[0])},{int(line[1])},'{line[2]}','{line[3]}','{line[4]}','{line[5]}','{line[6]}','{line[7]}')\")\n",
    "    print(\"All data inserted\")\n",
    "    mydb.commit()\n",
    "    \n",
    "    mydb.close()\n",
    "\n",
    "\n",
    "except Exception as e:\n",
    "    mydb.close()\n",
    "    print(str(e))\n"
   ]
  },
  {
   "cell_type": "markdown",
   "id": "f973afcf",
   "metadata": {},
   "source": [
    "pip install pymysql"
   ]
  },
  {
   "cell_type": "code",
   "execution_count": 11,
   "id": "c52bd679-cf8a-4db7-957b-b45d8a933b66",
   "metadata": {},
   "outputs": [
    {
     "name": "stdout",
     "output_type": "stream",
     "text": [
      "Connection estiblished\n",
      "Table Created!!\n",
      "Not enough parameters for the SQL statement\n"
     ]
    }
   ],
   "source": [
    "import mysql.connector as con\n",
    "import pandas as pd\n",
    "import csv\n",
    "\n",
    "# if database available this use   try -except\n",
    "try:\n",
    "    # connection\n",
    "    mydb = con.connect(host='localhost', \n",
    "                       user='root',\n",
    "                       password='poojadas1993',\n",
    "                      database='Ineuron')\n",
    "    print(\"Connection estiblished\")\n",
    "    # creating cursor object \n",
    "    # create a cursor to execute queries\n",
    "    cur = mydb.cursor()  # cur just object name\n",
    "    \n",
    "    # create Table\n",
    "    \n",
    "    query=\"\"\"CREATE TABLE IF NOT EXISTS Ineuron.CarbonData(Chiral_indice_n Integer(15),\n",
    "                                                            Chiral_indice_m Integer(15),\n",
    "                                                            Initial_atomic_coordinate_u Varchar(100) ,\n",
    "                                                            Initial_atomic_coordinate_v Varchar(100),\n",
    "                                                            Initial_atomic_coordinate_w Varchar(100),\n",
    "                                                            Calculated_atomic_coordinates_u Varchar(100),\n",
    "                                                            Calculated_atomic_coordinates_v Varchar(100),\n",
    "                                                            Calculated_atomic_coordinates_w Varchar(100))\"\"\"\n",
    "   \n",
    "    cur.execute(query)\n",
    "    print(\"Table Created!!\")\n",
    "    \n",
    "    # #read the csv file\n",
    "    with open('carbon_nanotubes.csv',mode='r') as f:\n",
    "        next(f)\n",
    "        data_csv= csv.reader(f,delimiter=\"\\n\")\n",
    "       \n",
    "        for  line in data_csv:\n",
    "            \n",
    "            q=f\"INSERT INTO Ineuron.CarbonData (Chiral_indice_n Integer,Chiral_indice_m,Initial_atomic_coordinate_u,Initial_atomic_coordinate_v,Initial_atomic_coordinate_w,Calculated_atomic_coordinates_u,Calculated_atomic_coordinates_u) Values(%s,%s,%s,%s,%s,%s,%s,%s)\"\n",
    "            cur.execute(q,tuple(line))\n",
    "            \n",
    "    print(\"All data inserted\")\n",
    "    mydb.commit()\n",
    "    \n",
    "    mydb.close()\n",
    "\n",
    "\n",
    "except Exception as e:\n",
    "    mydb.close()\n",
    "    print(str(e))"
   ]
  },
  {
   "cell_type": "code",
   "execution_count": 12,
   "id": "63bd157b-508e-4c0c-b4d5-60e330ae9348",
   "metadata": {},
   "outputs": [
    {
     "name": "stdout",
     "output_type": "stream",
     "text": [
      "Connection estiblished\n",
      "Table Created!!\n",
      "1064 (42000): You have an error in your SQL syntax; check the manual that corresponds to your MySQL server version for the right syntax to use near '2', '1', '0,679005', '0,701318', '0,017033', '0,721039', '0,730232', '0,017014']' at line 1\n"
     ]
    }
   ],
   "source": [
    "import mysql.connector as con\n",
    "import pandas as pd\n",
    "import csv\n",
    "\n",
    "# if database available this use   try -except\n",
    "try:\n",
    "    # connection\n",
    "    mydb = con.connect(host='localhost', \n",
    "                       user='root',\n",
    "                       password='poojadas1993',\n",
    "                      database='Ineuron')\n",
    "    print(\"Connection estiblished\")\n",
    "    # creating cursor object \n",
    "    # create a cursor to execute queries\n",
    "    cur = mydb.cursor()  # cur just object name\n",
    "    \n",
    "    # create Table\n",
    "    \n",
    "    query=\"\"\"CREATE TABLE IF NOT EXISTS Ineuron.CarbonData(Chiral_indice_n Integer(15),\n",
    "                                                            Chiral_indice_m Integer(15),\n",
    "                                                            Initial_atomic_coordinate_u Varchar(100) ,\n",
    "                                                            Initial_atomic_coordinate_v Varchar(100),\n",
    "                                                            Initial_atomic_coordinate_w Varchar(100),\n",
    "                                                            Calculated_atomic_coordinates_u Varchar(100),\n",
    "                                                            Calculated_atomic_coordinates_v Varchar(100),\n",
    "                                                            Calculated_atomic_coordinates_w Varchar(100))\"\"\"\n",
    "   \n",
    "    cur.execute(query)\n",
    "    print(\"Table Created!!\")\n",
    "    \n",
    "    # #read the csv file\n",
    "    with open('carbon_nanotubes.csv',mode='r') as f:\n",
    "        next(f)\n",
    "        data_csv= csv.reader(f,delimiter=\";\")\n",
    "       \n",
    "        for  line in data_csv:\n",
    "            \n",
    "            q=f\"INSERT INTO Ineuron.CarbonData (Chiral_indice_n,Chiral_indice_m,Initial_atomic_coordinate_u,Initial_atomic_coordinate_v,Initial_atomic_coordinate_w,Calculated_atomic_coordinates_u,Calculated_atomic_coordinates_u) VALUES({int(line[0])},{int(line[1])},'{r}','{line[3]}','{line[4]}','{line[5]}','{line[6]}','{line[7]}) \"\n",
    "            cur.execute(q)\n",
    "            \n",
    "    print(\"All data inserted\")\n",
    "    mydb.commit()\n",
    "    \n",
    "    mydb.close()\n",
    "\n",
    "\n",
    "except Exception as e:\n",
    "    mydb.close()\n",
    "    print(str(e))"
   ]
  },
  {
   "cell_type": "code",
   "execution_count": 13,
   "id": "dad79d2a",
   "metadata": {},
   "outputs": [
    {
     "data": {
      "text/plain": [
       "'5,0.5,0.5'"
      ]
     },
     "execution_count": 13,
     "metadata": {},
     "output_type": "execute_result"
    }
   ],
   "source": [
    "l=[\"5\",\"0.5\",\"0.5\"]\n",
    "\",\".join(l)"
   ]
  },
  {
   "cell_type": "code",
   "execution_count": 14,
   "id": "1a11205e",
   "metadata": {},
   "outputs": [
    {
     "data": {
      "text/plain": [
       "'2,1,0,679005,0,701318,0,017033,0,721039,0,730232,0,017014'"
      ]
     },
     "execution_count": 14,
     "metadata": {},
     "output_type": "execute_result"
    }
   ],
   "source": [
    "r=['2', '1', '0,679005','0,701318','0,017033','0,721039','0,730232','0,017014']\n",
    "\n",
    "\n",
    "\",\".join(r)   \n"
   ]
  },
  {
   "cell_type": "code",
   "execution_count": 15,
   "id": "2c32d994",
   "metadata": {},
   "outputs": [
    {
     "name": "stdout",
     "output_type": "stream",
     "text": [
      "INSERT INTO Ineuron.CarbonData Values('2', '1', '0,679005', '0,701318', '0,017033', '0,721039', '0,730232', '0,017014')\n"
     ]
    }
   ],
   "source": [
    " with open('carbon_nanotubes.csv',mode='r') as f:\n",
    "        next(f)\n",
    "        data_csv= csv.reader(f,delimiter=\";\")\n",
    "       \n",
    "        for  line in enumerate(data_csv):\n",
    "#         print(tuple(line[1]))\n",
    "            print(f\"INSERT INTO Ineuron.CarbonData Values{tuple(line[1])}\")\n",
    "            break\n",
    "    \n",
    "        "
   ]
  },
  {
   "cell_type": "code",
   "execution_count": 16,
   "id": "09ec9620",
   "metadata": {},
   "outputs": [
    {
     "name": "stdout",
     "output_type": "stream",
     "text": [
      "Connection estiblished\n",
      "Table Created!!\n",
      "All data inserted\n"
     ]
    }
   ],
   "source": [
    "import mysql.connector as con\n",
    "import pandas as pd\n",
    "import csv\n",
    "import pymysql\n",
    "\n",
    "# if database available this use   try -except\n",
    "try:\n",
    "    # connection\n",
    "    mydb = con.connect(host='localhost', \n",
    "                       user='root',\n",
    "                       password='poojadas1993',\n",
    "                      database='Ineuron')\n",
    "    print(\"Connection estiblished\")\n",
    "    # creating cursor object \n",
    "    # create a cursor to execute queries\n",
    "    cur = mydb.cursor()  # cur just object name\n",
    "    \n",
    "    # create Table\n",
    "    \n",
    "    query=\"\"\"CREATE TABLE IF NOT EXISTS Ineuron.CarbonData1(Chiral_indice_n Integer(15),\n",
    "                                                            Chiral_indice_m Integer(15),\n",
    "                                                            Initial_atomic_coordinate_u Varchar(200),\n",
    "                                                            Initial_atomic_coordinate_v Varchar(200),\n",
    "                                                            Initial_atomic_coordinate_w Varchar(200),\n",
    "                                                            Calculated_atomic_coordinates_u Varchar(200),\n",
    "                                                            Calculated_atomic_coordinates_v Varchar(200),\n",
    "                                                            Calculated_atomic_coordinates_w Varchar(200))\n",
    "                                                           \"\"\"\n",
    "   \n",
    "    cur.execute(query)\n",
    "    print(\"Table Created!!\")\n",
    "    \n",
    "    with open('carbon_nanotubes.csv',mode='r') as f:\n",
    "        next(f)\n",
    "        data_csv= csv.reader(f,delimiter=\";\")\n",
    "       \n",
    "        for  line in data_csv:\n",
    "#         print(tuple(line[1]))\n",
    "            cur.execute(f\"INSERT INTO Ineuron.CarbonData1 Values{tuple(line)}\")\n",
    "           \n",
    "    print(\"All data inserted\")\n",
    "    mydb.commit()\n",
    "    \n",
    "    mydb.close()\n",
    "\n",
    "\n",
    "except Exception as e:\n",
    "    mydb.close()\n",
    "    print(str(e))\n"
   ]
  }
 ],
 "metadata": {
  "kernelspec": {
   "display_name": "Python 3 (ipykernel)",
   "language": "python",
   "name": "python3"
  },
  "language_info": {
   "codemirror_mode": {
    "name": "ipython",
    "version": 3
   },
   "file_extension": ".py",
   "mimetype": "text/x-python",
   "name": "python",
   "nbconvert_exporter": "python",
   "pygments_lexer": "ipython3",
   "version": "3.9.12"
  }
 },
 "nbformat": 4,
 "nbformat_minor": 5
}
