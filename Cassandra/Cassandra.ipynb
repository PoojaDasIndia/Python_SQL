{
 "cells": [
  {
   "cell_type": "markdown",
   "id": "99162d74-b9d6-497d-9fa2-f446c9175a28",
   "metadata": {},
   "source": [
    "### 1. Install the DataStax Python driver:"
   ]
  },
  {
   "cell_type": "code",
   "execution_count": 1,
   "id": "f6edf02a-3602-4200-ba70-571160eeb455",
   "metadata": {
    "collapsed": true,
    "jupyter": {
     "outputs_hidden": true
    },
    "tags": []
   },
   "outputs": [
    {
     "name": "stdout",
     "output_type": "stream",
     "text": [
      "Collecting cassandra-driver\n",
      "  Using cached cassandra_driver-3.25.0-cp39-cp39-win_amd64.whl\n",
      "Requirement already satisfied: six>=1.9 in c:\\users\\hp\\anaconda3\\envs\\python_project\\lib\\site-packages (from cassandra-driver) (1.16.0)\n",
      "Collecting geomet<0.3,>=0.1\n",
      "  Using cached geomet-0.2.1.post1-py3-none-any.whl (18 kB)\n",
      "Requirement already satisfied: click in c:\\users\\hp\\anaconda3\\envs\\python_project\\lib\\site-packages (from geomet<0.3,>=0.1->cassandra-driver) (8.1.3)\n",
      "Requirement already satisfied: colorama in c:\\users\\hp\\anaconda3\\envs\\python_project\\lib\\site-packages (from click->geomet<0.3,>=0.1->cassandra-driver) (0.4.5)\n",
      "Installing collected packages: geomet, cassandra-driver\n",
      "Successfully installed cassandra-driver-3.25.0 geomet-0.2.1.post1\n",
      "Note: you may need to restart the kernel to use updated packages.\n"
     ]
    },
    {
     "name": "stderr",
     "output_type": "stream",
     "text": [
      "  WARNING: The script geomet.exe is installed in 'C:\\Users\\HP\\anaconda3\\envs\\Python_Project\\Scripts' which is not on PATH.\n",
      "  Consider adding this directory to PATH or, if you prefer to suppress this warning, use --no-warn-script-location.\n"
     ]
    }
   ],
   "source": [
    "pip install cassandra-driver"
   ]
  },
  {
   "cell_type": "markdown",
   "id": "14be828d-cd1c-49d7-aaaf-d7b314a33c41",
   "metadata": {},
   "source": [
    "### 2. Verify that the DataStax Python driver installed successfully:\n",
    "\n"
   ]
  },
  {
   "cell_type": "code",
   "execution_count": 2,
   "id": "0341d28d-eeb2-422f-a7d8-7d2955e72c0c",
   "metadata": {},
   "outputs": [],
   "source": [
    "import cassandra"
   ]
  },
  {
   "cell_type": "code",
   "execution_count": 3,
   "id": "547264a7-b48a-42a6-ae8a-556c0efcc217",
   "metadata": {},
   "outputs": [
    {
     "name": "stdout",
     "output_type": "stream",
     "text": [
      "3.25.0\n"
     ]
    }
   ],
   "source": [
    "print (cassandra.__version__)"
   ]
  },
  {
   "cell_type": "markdown",
   "id": "b2dc60cc-ec87-4ab9-b72f-cfbe0b441e5d",
   "metadata": {},
   "source": []
  },
  {
   "cell_type": "code",
   "execution_count": 5,
   "id": "e6a776d5-2174-42e2-bba9-3425b54ceac9",
   "metadata": {},
   "outputs": [
    {
     "name": "stdout",
     "output_type": "stream",
     "text": [
      "4.0.0.6816\n"
     ]
    }
   ],
   "source": [
    "from cassandra.cluster import Cluster\n",
    "from cassandra.auth import PlainTextAuthProvider\n",
    "\n",
    "cloud_config= {\n",
    "        'secure_connect_bundle': 'E:\\secure-connect-test.zip'\n",
    "}\n",
    "auth_provider = PlainTextAuthProvider(\"IlqMuFWiNJQQZAsNzYjZLJnX\", \"THojs-pRqzS2ui54t2hlC,C+vSUZ652UbIvtdKqoo5t+,ziOP1SAJ.1ZQv6_6IrpOKjXKM2hAb18GFzFHw.AW96I1UkSKLZCKSIX9DtUD.g2l7fawCLPrb9MAYpsUkvQ\")\n",
    "cluster = Cluster(cloud=cloud_config, auth_provider=auth_provider)\n",
    "session = cluster.connect()\n",
    "\n",
    "row = session.execute(\"select release_version from system.local\").one()\n",
    "if row:\n",
    "    print(row[0])\n",
    "else:\n",
    "    print(\"An error occurred.\")"
   ]
  },
  {
   "cell_type": "markdown",
   "id": "3f76792c-f98d-4f4a-9938-a37a998b1846",
   "metadata": {},
   "source": [
    "## Local machine"
   ]
  },
  {
   "cell_type": "code",
   "execution_count": 8,
   "id": "1f6de859-2592-4dc7-8ca3-35c4e5be3ac2",
   "metadata": {},
   "outputs": [
    {
     "name": "stdout",
     "output_type": "stream",
     "text": [
      "3.11.13\n"
     ]
    }
   ],
   "source": [
    "from cassandra.cluster import Cluster\n",
    "cluster = Cluster()\n",
    "session = cluster.connect()\n",
    "row = session.execute(\"select release_version from system.local\").one()\n",
    "if row:\n",
    "    print(row[0])\n",
    "else:\n",
    "    print(\"An error occurred.\")"
   ]
  },
  {
   "cell_type": "code",
   "execution_count": 9,
   "id": "b27d1bd2-3513-453e-b9c1-c2ccd3d8a3a2",
   "metadata": {},
   "outputs": [
    {
     "name": "stdout",
     "output_type": "stream",
     "text": [
      "Keyspace created\n"
     ]
    }
   ],
   "source": [
    "from cassandra.cluster import Cluster\n",
    "cluster = Cluster()\n",
    "session = cluster.connect()\n",
    "session.execute(\"CREATE KEYSPACE Inueron WITH replication ={'class':'SimpleStrategy','replication_factor':'1'} AND durable_writes='true';\")\n",
    "print(\"Keyspace created\")\n"
   ]
  },
  {
   "cell_type": "markdown",
   "id": "69b73754-c1ac-4e7e-9902-752adb84d9cd",
   "metadata": {},
   "source": [
    "* DROP KEYSPACE [KEYSPACE name];\n",
    "\n",
    "* DESCRIBE KEYSPACE;\n",
    "\n",
    "* CREATE KEYSPACE;"
   ]
  },
  {
   "cell_type": "code",
   "execution_count": 10,
   "id": "8bfac449-5ba6-4c6f-8542-e378306ab73d",
   "metadata": {},
   "outputs": [
    {
     "name": "stdout",
     "output_type": "stream",
     "text": [
      "Done\n"
     ]
    }
   ],
   "source": [
    "from cassandra.cluster import Cluster\n",
    "cluster = Cluster()\n",
    "session = cluster.connect()\n",
    "session.execute(\"USE Inueron;\")\n",
    "print(\"Done\")"
   ]
  },
  {
   "cell_type": "code",
   "execution_count": 21,
   "id": "44cc11ac-74ac-4900-8b27-13bf98a49b3d",
   "metadata": {},
   "outputs": [
    {
     "name": "stdout",
     "output_type": "stream",
     "text": [
      "table created\n"
     ]
    }
   ],
   "source": [
    "\n",
    "from cassandra.cluster import Cluster\n",
    "cluster=Cluster()\n",
    "session=cluster.connect()\n",
    "session.execute(\"USE Pooja;\")\n",
    "session.execute(\"CREATE TABLE employee(eid int PRIMARY KEY,ename text,esal varint);\")\n",
    "print(\"table created\")"
   ]
  },
  {
   "cell_type": "markdown",
   "id": "d7acff73-d68a-45af-9b4e-ee2348829b78",
   "metadata": {},
   "source": [
    "#### In the code segment shown above :\n",
    "\n",
    "`from cassandra.cluster import Cluster :`\n",
    ">It is an instruction to create a connection instance using cassandra.cluster class.\n",
    "\n",
    "`clstr=Cluster() :`\n",
    ">Use to initiate a Database contact point.\n",
    "\n",
    "`session=clstr.connect() :`\n",
    ">Session is a logical connection between external program(Application) and database storage.\n",
    "\n",
    "`session.execute(\"USE db;\") :`\n",
    ">To execute the USE KEYSPACE query.\n",
    "\n",
    "`session.execute(\"CREATE TABLE employee(eid int PRIMARY KEY,ename text,esal varint);\")`\n",
    ">To execute the CREATE TABLE query.\n",
    "\n",
    "\n",
    "https://pymatix.com/pythoncql/python-cassandra-create-table.php#:~:text=CREATE%20TABLE%20command%20in%20Cassandra,table%20with%20the%20primary%20key.\n"
   ]
  },
  {
   "cell_type": "code",
   "execution_count": 45,
   "id": "78ceea49-9bb7-4d65-bcd0-753cbfaa5ab4",
   "metadata": {},
   "outputs": [
    {
     "name": "stdout",
     "output_type": "stream",
     "text": [
      "table created\n"
     ]
    }
   ],
   "source": [
    "from cassandra.cluster import Cluster\n",
    "cluster=Cluster()\n",
    "session=cluster.connect()\n",
    "session.execute(\"USE Pooja;\")\n",
    "session.execute(\"INSERT INTO employee(eid,ename,esal)VALUES(102,'pooja',16000);\")\n",
    "print(\"table created\")"
   ]
  },
  {
   "cell_type": "code",
   "execution_count": 39,
   "id": "307ada5f-c55a-40b7-84cf-362a07e221cc",
   "metadata": {},
   "outputs": [
    {
     "name": "stdout",
     "output_type": "stream",
     "text": [
      "OrderedDict([('eid', <cassandra.metadata.ColumnMetadata object at 0x0000028643CAE520>), ('ename', <cassandra.metadata.ColumnMetadata object at 0x0000028643CAE550>), ('esal', <cassandra.metadata.ColumnMetadata object at 0x0000028643CAE5B0>)])\n"
     ]
    }
   ],
   "source": [
    "from cassandra.cluster import Cluster\n",
    "clstr=Cluster()\n",
    "session=clstr.connect()\n",
    "# session.execute(\"USE Pooja;\")\n",
    "print(cluster.metadata.keyspaces['pooja'].tables['employee'].columns)"
   ]
  },
  {
   "cell_type": "raw",
   "id": "9ab9e3ec-2d91-4c28-95d4-977b5989e70a",
   "metadata": {},
   "source": [
    "cluster.metadata.keyspaces\n",
    "cluster.metadata.keyspaces['node_data']\n",
    "cluster.metadata.keyspaces['node_data'].tables\n",
    "cluster.metadata.keyspaces['node_data'].tables['users']\n",
    "cluster.metadata.keyspaces['node_data'].tables['users'].columns\n",
    "cluster.metadata.keyspaces['node_data'].tables['users'].columns['uid']"
   ]
  },
  {
   "cell_type": "code",
   "execution_count": 65,
   "id": "c6ccb7dc-c28b-405a-85a1-19108f9180a8",
   "metadata": {},
   "outputs": [
    {
     "ename": "InvalidRequest",
     "evalue": "Error from server: code=2200 [Invalid query] message=\"unconfigured table employee\"",
     "output_type": "error",
     "traceback": [
      "\u001b[1;31m---------------------------------------------------------------------------\u001b[0m",
      "\u001b[1;31mInvalidRequest\u001b[0m                            Traceback (most recent call last)",
      "Input \u001b[1;32mIn [65]\u001b[0m, in \u001b[0;36m<cell line: 5>\u001b[1;34m()\u001b[0m\n\u001b[0;32m      3\u001b[0m session\u001b[38;5;241m=\u001b[39mclstr\u001b[38;5;241m.\u001b[39mconnect()\n\u001b[0;32m      4\u001b[0m session\u001b[38;5;241m.\u001b[39mexecute(\u001b[38;5;124m\"\u001b[39m\u001b[38;5;124mUSE Inueron;\u001b[39m\u001b[38;5;124m\"\u001b[39m)\n\u001b[1;32m----> 5\u001b[0m rows\u001b[38;5;241m=\u001b[39m\u001b[43msession\u001b[49m\u001b[38;5;241;43m.\u001b[39;49m\u001b[43mexecute\u001b[49m\u001b[43m(\u001b[49m\u001b[38;5;124;43m\"\u001b[39;49m\u001b[38;5;124;43mSELECT * FROM employee;\u001b[39;49m\u001b[38;5;124;43m\"\u001b[39;49m\u001b[43m)\u001b[49m\n\u001b[0;32m      6\u001b[0m \u001b[38;5;28;01mfor\u001b[39;00m row \u001b[38;5;129;01min\u001b[39;00m rows:\n\u001b[0;32m      7\u001b[0m     \u001b[38;5;28mprint\u001b[39m(row)\n",
      "File \u001b[1;32m~\\anaconda3\\envs\\Python_Project\\lib\\site-packages\\cassandra\\cluster.py:2618\u001b[0m, in \u001b[0;36mSession.execute\u001b[1;34m(self, query, parameters, timeout, trace, custom_payload, execution_profile, paging_state, host, execute_as)\u001b[0m\n\u001b[0;32m   2575\u001b[0m \u001b[38;5;28;01mdef\u001b[39;00m \u001b[38;5;21mexecute\u001b[39m(\u001b[38;5;28mself\u001b[39m, query, parameters\u001b[38;5;241m=\u001b[39m\u001b[38;5;28;01mNone\u001b[39;00m, timeout\u001b[38;5;241m=\u001b[39m_NOT_SET, trace\u001b[38;5;241m=\u001b[39m\u001b[38;5;28;01mFalse\u001b[39;00m,\n\u001b[0;32m   2576\u001b[0m             custom_payload\u001b[38;5;241m=\u001b[39m\u001b[38;5;28;01mNone\u001b[39;00m, execution_profile\u001b[38;5;241m=\u001b[39mEXEC_PROFILE_DEFAULT,\n\u001b[0;32m   2577\u001b[0m             paging_state\u001b[38;5;241m=\u001b[39m\u001b[38;5;28;01mNone\u001b[39;00m, host\u001b[38;5;241m=\u001b[39m\u001b[38;5;28;01mNone\u001b[39;00m, execute_as\u001b[38;5;241m=\u001b[39m\u001b[38;5;28;01mNone\u001b[39;00m):\n\u001b[0;32m   2578\u001b[0m     \u001b[38;5;124;03m\"\"\"\u001b[39;00m\n\u001b[0;32m   2579\u001b[0m \u001b[38;5;124;03m    Execute the given query and synchronously wait for the response.\u001b[39;00m\n\u001b[0;32m   2580\u001b[0m \n\u001b[1;32m   (...)\u001b[0m\n\u001b[0;32m   2615\u001b[0m \u001b[38;5;124;03m    on a DSE cluster.\u001b[39;00m\n\u001b[0;32m   2616\u001b[0m \u001b[38;5;124;03m    \"\"\"\u001b[39;00m\n\u001b[1;32m-> 2618\u001b[0m     \u001b[38;5;28;01mreturn\u001b[39;00m \u001b[38;5;28;43mself\u001b[39;49m\u001b[38;5;241;43m.\u001b[39;49m\u001b[43mexecute_async\u001b[49m\u001b[43m(\u001b[49m\u001b[43mquery\u001b[49m\u001b[43m,\u001b[49m\u001b[43m \u001b[49m\u001b[43mparameters\u001b[49m\u001b[43m,\u001b[49m\u001b[43m \u001b[49m\u001b[43mtrace\u001b[49m\u001b[43m,\u001b[49m\u001b[43m \u001b[49m\u001b[43mcustom_payload\u001b[49m\u001b[43m,\u001b[49m\u001b[43m \u001b[49m\u001b[43mtimeout\u001b[49m\u001b[43m,\u001b[49m\u001b[43m \u001b[49m\u001b[43mexecution_profile\u001b[49m\u001b[43m,\u001b[49m\u001b[43m \u001b[49m\u001b[43mpaging_state\u001b[49m\u001b[43m,\u001b[49m\u001b[43m \u001b[49m\u001b[43mhost\u001b[49m\u001b[43m,\u001b[49m\u001b[43m \u001b[49m\u001b[43mexecute_as\u001b[49m\u001b[43m)\u001b[49m\u001b[38;5;241;43m.\u001b[39;49m\u001b[43mresult\u001b[49m\u001b[43m(\u001b[49m\u001b[43m)\u001b[49m\n",
      "File \u001b[1;32m~\\anaconda3\\envs\\Python_Project\\lib\\site-packages\\cassandra\\cluster.py:4894\u001b[0m, in \u001b[0;36mResponseFuture.result\u001b[1;34m(self)\u001b[0m\n\u001b[0;32m   4892\u001b[0m     \u001b[38;5;28;01mreturn\u001b[39;00m ResultSet(\u001b[38;5;28mself\u001b[39m, \u001b[38;5;28mself\u001b[39m\u001b[38;5;241m.\u001b[39m_final_result)\n\u001b[0;32m   4893\u001b[0m \u001b[38;5;28;01melse\u001b[39;00m:\n\u001b[1;32m-> 4894\u001b[0m     \u001b[38;5;28;01mraise\u001b[39;00m \u001b[38;5;28mself\u001b[39m\u001b[38;5;241m.\u001b[39m_final_exception\n",
      "\u001b[1;31mInvalidRequest\u001b[0m: Error from server: code=2200 [Invalid query] message=\"unconfigured table employee\""
     ]
    }
   ],
   "source": [
    "from cassandra.cluster import Cluster\n",
    "clstr=Cluster()\n",
    "session=clstr.connect()\n",
    "session.execute(\"USE Inueron;\")\n",
    "rows=session.execute(\"SELECT * FROM employee;\")\n",
    "for row in rows:\n",
    "    print(row)\n",
    "    print(f\"eid:{row[0]}, ename:{row[1]}, esal:{row[2]}\")"
   ]
  },
  {
   "cell_type": "code",
   "execution_count": 57,
   "id": "f6db7e7a-d4ba-4500-8f50-53abdd983ce9",
   "metadata": {},
   "outputs": [],
   "source": [
    "for i in row:\n",
    "    print(row[0])"
   ]
  },
  {
   "cell_type": "code",
   "execution_count": null,
   "id": "9a3dddf0-af86-4ce2-9be3-16259e0cd3fa",
   "metadata": {},
   "outputs": [],
   "source": []
  }
 ],
 "metadata": {
  "kernelspec": {
   "display_name": "Python 3 (ipykernel)",
   "language": "python",
   "name": "python3"
  },
  "language_info": {
   "codemirror_mode": {
    "name": "ipython",
    "version": 3
   },
   "file_extension": ".py",
   "mimetype": "text/x-python",
   "name": "python",
   "nbconvert_exporter": "python",
   "pygments_lexer": "ipython3",
   "version": "3.9.12"
  }
 },
 "nbformat": 4,
 "nbformat_minor": 5
}
