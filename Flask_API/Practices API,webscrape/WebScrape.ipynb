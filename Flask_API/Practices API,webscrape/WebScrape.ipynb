{
 "cells": [
  {
   "cell_type": "markdown",
   "id": "c06dbbeb-02cd-4fce-b65e-1b5e6f43ca03",
   "metadata": {},
   "source": [
    " 2 Ways to Retrieved Data:\n",
    "       \n",
    "        1. API\n",
    "        2. Scraping- Parsing The HTML\n",
    "        \n",
    "Pre-Requistes\n",
    "\n",
    " -install Labraries\n",
    "    \n",
    "    -requests\n",
    "    -Beautiful soup"
   ]
  },
  {
   "cell_type": "code",
   "execution_count": null,
   "id": "fdca568f-daed-4322-8119-c79a471f131b",
   "metadata": {},
   "outputs": [],
   "source": [
    "# pip install bs4"
   ]
  },
  {
   "cell_type": "code",
   "execution_count": null,
   "id": "be7620dc-2a83-44db-8654-745f423d77cd",
   "metadata": {},
   "outputs": [],
   "source": [
    "# pip install requests"
   ]
  },
  {
   "cell_type": "code",
   "execution_count": 1,
   "id": "8d248456-e4f1-4067-96b6-6b648c814cff",
   "metadata": {},
   "outputs": [],
   "source": [
    "import requests\n"
   ]
  },
  {
   "cell_type": "code",
   "execution_count": 2,
   "id": "973e0424-066f-4808-8eb1-ead0ace70223",
   "metadata": {},
   "outputs": [],
   "source": [
    "url = 'https://www.nobroker.in/prophub/new-builder-projects/new-builder-projects-in-bangalore/'"
   ]
  },
  {
   "cell_type": "code",
   "execution_count": 3,
   "id": "b40c7e41-d063-42fb-81c8-df1b53a4b8bf",
   "metadata": {},
   "outputs": [],
   "source": [
    "res = requests.get(url=url)"
   ]
  },
  {
   "cell_type": "markdown",
   "id": "b4e34249-91d8-4b95-981b-c8010569be0a",
   "metadata": {},
   "source": [
    "<h2>requests used to get html content of the url</h2>"
   ]
  },
  {
   "cell_type": "code",
   "execution_count": 5,
   "id": "7958489e-525e-480b-9f29-b292e4035457",
   "metadata": {},
   "outputs": [],
   "source": [
    "html_content = res.content"
   ]
  },
  {
   "cell_type": "markdown",
   "id": "1a70b3d9-0c7d-49fb-8824-a95fda3a8779",
   "metadata": {},
   "source": [
    "<h2> Beautiful soul use to pull out the html file</h2>"
   ]
  },
  {
   "cell_type": "code",
   "execution_count": 7,
   "id": "ccb46f56-b2f6-4a71-bc07-b95a072028d9",
   "metadata": {},
   "outputs": [],
   "source": [
    "from bs4 import BeautifulSoup as bs"
   ]
  },
  {
   "cell_type": "code",
   "execution_count": 79,
   "id": "7eba205d-00b5-4c02-b28a-429fc68f676e",
   "metadata": {},
   "outputs": [],
   "source": [
    "soup = bs(html_content,'html.parser')"
   ]
  },
  {
   "cell_type": "code",
   "execution_count": 80,
   "id": "86e4a76a-d75d-4670-af65-207dc3b36cf4",
   "metadata": {},
   "outputs": [
    {
     "data": {
      "text/plain": [
       "<title>New Builder Projects in Bangalore</title>"
      ]
     },
     "execution_count": 80,
     "metadata": {},
     "output_type": "execute_result"
    }
   ],
   "source": [
    "soup.title"
   ]
  },
  {
   "cell_type": "code",
   "execution_count": 81,
   "id": "0b19f6d1-f1b6-4a1a-86b6-94b932410e20",
   "metadata": {},
   "outputs": [],
   "source": [
    "# print(soup.prettify())"
   ]
  },
  {
   "cell_type": "code",
   "execution_count": 82,
   "id": "e121c8f0-a26f-4e82-a2cc-bb7ffc57f26c",
   "metadata": {},
   "outputs": [
    {
     "data": {
      "text/plain": [
       "'New Builder Projects in Bangalore'"
      ]
     },
     "execution_count": 82,
     "metadata": {},
     "output_type": "execute_result"
    }
   ],
   "source": [
    "soup.title.text"
   ]
  },
  {
   "cell_type": "code",
   "execution_count": 83,
   "id": "9dc3358e-12f6-424a-b6c6-1c82868e52c8",
   "metadata": {},
   "outputs": [
    {
     "name": "stdout",
     "output_type": "stream",
     "text": [
      "[<ul style=\"  text-align:left;\">\n",
      "<li>  Project Name: Prestige Marigold </li>\n",
      "<li style=\"    padding-top: 8px;\">  BHK Type: 1RK,1.5,2BHK</li>\n",
      "<li style=\"    padding-top: 8px;\">  Price(Lacs): 45, 56, 90,145</li></ul>, <ul style=\"  text-align:left;\">\n",
      "<li>  Project Name: Codename Rhythm of North 2 </li>\n",
      "<li style=\"    padding-top: 8px;\">  BHK Type: 1RK,1,1.5,2,3BHK</li>\n",
      "<li style=\"    padding-top: 8px;\">  Price(Lacs): 48,62,110</li></ul>, <ul style=\"  text-align:left;\">\n",
      "<li>  Project Name: Ivory At Brigade </li>\n",
      "<li style=\"    padding-top: 8px;\">  BHK Type: 1RK,1,1.5,2,3BHK</li>\n",
      "<li style=\"    padding-top: 8px;\">  Price(Lacs): 26,32,42,48,62</li></ul>, <ul style=\"  text-align:left;\">\n",
      "<li>  Project Name: Brigade Cornerstone Utopia </li>\n",
      "<li style=\"    padding-top: 8px;\">  BHK Type: 1,2,2.5BHK</li>\n",
      "<li style=\"    padding-top: 8px;\">  Price(Lacs): 63,80,100</li></ul>, <ul style=\"  text-align:left;\">\n",
      "<li>  Project Name: prestige meridian park </li>\n",
      "<li style=\"    padding-top: 8px;\">  BHK Type: 3BHK</li>\n",
      "<li style=\"    padding-top: 8px;\">  Price(Lacs): 88</li></ul>, <ul style=\"  text-align:left;\">\n",
      "<li>  Project Name: Adarsh Premia </li>\n",
      "<li style=\"    padding-top: 8px;\">  BHK Type: 3,4BHK</li>\n",
      "<li style=\"    padding-top: 8px;\">  Price(Lacs): 255,410</li></ul>, <ul style=\"  text-align:left;\">\n",
      "<li>  Project Name: Adarsh Palm Retreat Mayberry </li>\n",
      "<li style=\"    padding-top: 8px;\">  BHK Type: 3BHK</li>\n",
      "<li style=\"    padding-top: 8px;\">  Price(Lacs): 145</li></ul>, <ul style=\"  text-align:left;\">\n",
      "<li>  Project Name: Assetz 63 degree East - Tower B </li>\n",
      "<li style=\"    padding-top: 8px;\">  BHK Type: 1RK,2BHK</li>\n",
      "<li style=\"    padding-top: 8px;\">  Price(Lacs): 33,84</li></ul>, <ul style=\"  text-align:left;\">\n",
      "<li>  Project Name: Brigade 7 Gardens </li>\n",
      "<li style=\"    padding-top: 8px;\">  BHK Type: 2,3BHK</li>\n",
      "<li style=\"    padding-top: 8px;\">  Price(Lacs): 83,97</li></ul>, <ul style=\"  text-align:left;\">\n",
      "<li>  Project Name: Parkside East By Brigade </li>\n",
      "<li style=\"    padding-top: 8px;\">  BHK Type: 1,2,3,4BHK</li>\n",
      "<li style=\"    padding-top: 8px;\">  Price(Lacs): 47,7448,60,72</li></ul>, <ul style=\"  text-align:left;\">\n",
      "<li>  Project Name: Godrej Woodland </li>\n",
      "<li style=\"    padding-top: 8px;\">  BHK Type: 1,2,3BHK</li>\n",
      "<li style=\"    padding-top: 8px;\">  Price(Lacs): 34,54</li></ul>, <ul style=\"  text-align:left;\">\n",
      "<li>  Project Name: Prestige Primrose Hills </li>\n",
      "<li style=\"    padding-top: 8px;\">  BHK Type: 1,2BHK</li>\n",
      "<li style=\"    padding-top: 8px;\">  Price(Lacs): 40,50,72</li></ul>, <ul style=\"  text-align:left;\">\n",
      "<li>  Project Name: Provident Park Square/Park One </li>\n",
      "<li style=\"    padding-top: 8px;\">  BHK Type: 1,2,3BHK</li>\n",
      "<li style=\"    padding-top: 8px;\">  Price(Lacs): 52</li></ul>, <ul style=\"  text-align:left;\">\n",
      "<li>  Project Name: My Home My Life </li>\n",
      "<li style=\"    padding-top: 8px;\">  BHK Type: 2BHK</li>\n",
      "<li style=\"    padding-top: 8px;\">  Price(Lacs): 52,62</li></ul>, <ul style=\"  text-align:left;\">\n",
      "<li>  Project Name: Provident Equinox / Sundeck </li>\n",
      "<li style=\"    padding-top: 8px;\">  BHK Type: 2,3BHK</li>\n",
      "<li style=\"    padding-top: 8px;\">  Price(Lacs): 142</li></ul>, <ul style=\"  text-align:left;\">\n",
      "<li>  Project Name: Shriram Southern Crest </li>\n",
      "<li style=\"    padding-top: 8px;\">  BHK Type: 2.5BHK</li>\n",
      "<li style=\"    padding-top: 8px;\">  Price(Lacs): 110,143,174</li></ul>, <ul style=\"  text-align:left;\">\n",
      "<li>  Project Name: Sobha Windsor </li>\n",
      "<li style=\"    padding-top: 8px;\">  BHK Type: 2,3,4BHK</li>\n",
      "<li style=\"    padding-top: 8px;\">  Price(Lacs): 89,141</li></ul>, <ul style=\"  text-align:left;\">\n",
      "<li>  Project Name: Sobha Arena </li>\n",
      "<li style=\"    padding-top: 8px;\">  BHK Type: 2,3BHK</li>\n",
      "<li style=\"    padding-top: 8px;\">  Price(Lacs): 230,680</li></ul>, <ul style=\"  text-align:left;\">\n",
      "<li>  Project Name: Sobha Clovelly </li>\n",
      "<li style=\"    padding-top: 8px;\">  BHK Type: 3,4BHK</li>\n",
      "<li style=\"    padding-top: 8px;\">  Price(Lacs): 72</li></ul>, <ul style=\"  text-align:left;\">\n",
      "<li>  Project Name: Sobha Dream Acres </li>\n",
      "<li style=\"    padding-top: 8px;\">  BHK Type: 2,3,4BHK</li>\n",
      "<li style=\"    padding-top: 8px;\">  Price(Lacs): 45,79,100,140</li></ul>, <ul style=\"  text-align:left;\">\n",
      "<li>  Project Name: Prestige Jindal City </li>\n",
      "<li style=\"    padding-top: 8px;\">  BHK Type: 1,2,3,4BHK</li>\n",
      "<li style=\"    padding-top: 8px;\">  Price(Lacs): 35,45</li></ul>, <ul style=\"  text-align:left;\">\n",
      "<li>  Project Name: Shriram Dil Chahta Hai </li>\n",
      "<li style=\"    padding-top: 8px;\">  BHK Type: 2,3BHK</li>\n",
      "<li style=\"    padding-top: 8px;\">  Price(Lacs): 67,85</li></ul>, <ul style=\"  text-align:left;\">\n",
      "<li>  Project Name: Assetz Canvas &amp; cove </li>\n",
      "<li style=\"    padding-top: 8px;\">  BHK Type: 2,3BHK</li>\n",
      "<li style=\"    padding-top: 8px;\">  Price(Lacs): 71,86</li></ul>, <ul style=\"  text-align:left;\">\n",
      "<li>  Project Name: Brigade Plumeria Lifestyle </li>\n",
      "<li style=\"    padding-top: 8px;\">  BHK Type: 2,3BHK</li>\n",
      "<li style=\"    padding-top: 8px;\">  Price(Lacs): 110</li></ul>, <ul style=\"  text-align:left;\">\n",
      "<li>  Project Name: Sobha Manhattan Towers </li>\n",
      "<li style=\"    padding-top: 8px;\">  BHK Type: 3BHK</li>\n",
      "<li style=\"    padding-top: 8px;\">  Price(Lacs): 82,110</li></ul>, <ul style=\"  text-align:left;\">\n",
      "<li>  Project Name: Brigade Gem </li>\n",
      "<li style=\"    padding-top: 8px;\">  BHK Type: 2,3BHK</li>\n",
      "<li style=\"    padding-top: 8px;\">  Price(Lacs): 40,57</li></ul>, <ul style=\"  text-align:left;\">\n",
      "<li>  Project Name: Prestige Eden Park  </li>\n",
      "<li style=\"    padding-top: 8px;\">  BHK Type: 1,2,3BHK</li>\n",
      "<li style=\"    padding-top: 8px;\">  Price(Lacs): 43,59,77</li></ul>, <ul style=\"  text-align:left;\">\n",
      "<li>  Project Name: Godrej Park Retreat </li>\n",
      "<li style=\"    padding-top: 8px;\">  BHK Type: 1,2,3BHK</li>\n",
      "<li style=\"    padding-top: 8px;\">  Price(Lacs): 40,70,83</li></ul>, <ul style=\"  text-align:left;\">\n",
      "<li>  Project Name: Sobha Brooklyn </li>\n",
      "<li style=\"    padding-top: 8px;\">  BHK Type: 1,2,2.5BHK</li>\n",
      "<li style=\"    padding-top: 8px;\">  Price(Lacs): 232,230</li></ul>, <ul style=\"  text-align:left;\">\n",
      "<li>  Project Name: Valmark Cityville </li>\n",
      "<li style=\"    padding-top: 8px;\">  BHK Type: 3,4BHK</li>\n",
      "<li style=\"    padding-top: 8px;\">  Price(Lacs): 62,7792</li></ul>, <ul style=\"  text-align:left;\">\n",
      "<li>  Project Name: Reliable Ecity </li>\n",
      "<li style=\"    padding-top: 8px;\">  BHK Type: 1,2BHK</li>\n",
      "<li style=\"    padding-top: 8px;\">  Price(Lacs): 261376</li></ul>, <ul style=\"  text-align:left;\">\n",
      "<li>  Project Name: Vaishnavi Serene </li>\n",
      "<li style=\"    padding-top: 8px;\">  BHK Type: 1,2,3BHK</li>\n",
      "<li style=\"    padding-top: 8px;\">  Price(Lacs): 54,68,108</li></ul>, <ul style=\"  text-align:left;\">\n",
      "<li>  Project Name: Purva Tivoli Hills </li>\n",
      "<li style=\"    padding-top: 8px;\">  BHK Type: 1,2,3BHK</li>\n",
      "<li style=\"    padding-top: 8px;\">  Price(Lacs): 1099</li></ul>, <ul style=\"  text-align:left;\">\n",
      "<li>  Project Name: Prestige Golfshire </li>\n",
      "<li style=\"    padding-top: 8px;\">  BHK Type: 4BHK</li>\n",
      "<li style=\"    padding-top: 8px;\">  Price(Lacs): 81</li></ul>, <ul style=\"  text-align:left;\">\n",
      "<li>  Project Name: Prestige Royale Gardens </li>\n",
      "<li style=\"    padding-top: 8px;\">  BHK Type: 2,3BHK</li>\n",
      "<li style=\"    padding-top: 8px;\">  Price(Lacs): 220,260,320</li></ul>, <ul style=\"  text-align:left;\">\n",
      "<li>  Project Name: Prestige Woodland Park </li>\n",
      "<li style=\"    padding-top: 8px;\">  BHK Type: 2.5,3,3.5BHK</li>\n",
      "<li style=\"    padding-top: 8px;\">  Price(Lacs): 63,70,86</li></ul>, <ul style=\"  text-align:left;\">\n",
      "<li>  Project Name: Atmos and Aura </li>\n",
      "<li style=\"    padding-top: 8px;\">  BHK Type: 1,1.5,2BHK</li>\n",
      "<li style=\"    padding-top: 8px;\">  Price(Lacs): 155,623</li></ul>, <ul style=\"  text-align:left;\">\n",
      "<li>  Project Name: Embassy Springs </li>\n",
      "<li style=\"    padding-top: 8px;\">  BHK Type: 2,4+BHK</li>\n",
      "<li style=\"    padding-top: 8px;\">  Price(Lacs): 48,61,80,95</li></ul>, <ul style=\"  text-align:left;\">\n",
      "<li>  Project Name: Vaishnavi Life </li>\n",
      "<li style=\"    padding-top: 8px;\">  BHK Type: 1RK,1,1.5,2BHK</li>\n",
      "<li style=\"    padding-top: 8px;\">  Price(Lacs): 193</li></ul>]\n"
     ]
    }
   ],
   "source": [
    "print(soup.find_all('ul'))"
   ]
  },
  {
   "cell_type": "code",
   "execution_count": 85,
   "id": "ccb5c28d-b152-4067-a9b1-46aba108258e",
   "metadata": {},
   "outputs": [],
   "source": [
    "project_Name =[inner_ul.li.text.strip() for inner_ul in soup.find_all('ul')]\n",
    "\n",
    "    "
   ]
  },
  {
   "cell_type": "code",
   "execution_count": 86,
   "id": "eb28221a-6685-49bc-81bf-0e7a74e5680e",
   "metadata": {},
   "outputs": [],
   "source": [
    "project_Name =[name[14:] for name in project_Name]"
   ]
  },
  {
   "cell_type": "code",
   "execution_count": 44,
   "id": "d5910d0f-e5c1-4215-a43a-c8d5cb433b82",
   "metadata": {},
   "outputs": [],
   "source": [
    "# project_Name"
   ]
  },
  {
   "cell_type": "code",
   "execution_count": 89,
   "id": "728a0ee4-d619-4fd9-b5eb-ed4098591fe3",
   "metadata": {},
   "outputs": [],
   "source": [
    "property_detail ={ \n",
    "  'Project_Name': [],\n",
    "  'BHK_Type':[],\n",
    "  'Price_Lacs': []\n",
    "}\n",
    "for inner_ul in soup.find_all('ul'):\n",
    "    for inner_li in inner_ul:\n",
    "         for most_inner_li in inner_li:\n",
    "                # print(most_inner_li)\n",
    "                if 'Project Name' in most_inner_li:\n",
    "                    property_detail['Project_Name'].append(most_inner_li.split(\":\")[1].strip())\n",
    "                elif 'BHK Type' in most_inner_li:\n",
    "                    property_detail['BHK_Type'].append(most_inner_li.split(\":\")[1].strip())\n",
    "                elif 'Price(Lacs)' in most_inner_li:\n",
    "                    property_detail['Price_Lacs'].append(most_inner_li.strip().split(\":\")[1].strip())\n"
   ]
  },
  {
   "cell_type": "code",
   "execution_count": 58,
   "id": "fcfc5e64-60ae-4fbe-b728-a3f64060ede6",
   "metadata": {},
   "outputs": [
    {
     "data": {
      "text/plain": [
       "{'Project_Name': ['Prestige Marigold',\n",
       "  'Codename Rhythm of North 2',\n",
       "  'Ivory At Brigade',\n",
       "  'Brigade Cornerstone Utopia',\n",
       "  'prestige meridian park',\n",
       "  'Adarsh Premia',\n",
       "  'Adarsh Palm Retreat Mayberry',\n",
       "  'Assetz 63 degree East - Tower B',\n",
       "  'Brigade 7 Gardens',\n",
       "  'Parkside East By Brigade',\n",
       "  'Godrej Woodland',\n",
       "  'Prestige Primrose Hills',\n",
       "  'Provident Park Square/Park One',\n",
       "  'My Home My Life',\n",
       "  'Provident Equinox / Sundeck',\n",
       "  'Shriram Southern Crest',\n",
       "  'Sobha Windsor',\n",
       "  'Sobha Arena',\n",
       "  'Sobha Clovelly',\n",
       "  'Sobha Dream Acres',\n",
       "  'Prestige Jindal City',\n",
       "  'Shriram Dil Chahta Hai',\n",
       "  'Assetz Canvas & cove',\n",
       "  'Brigade Plumeria Lifestyle',\n",
       "  'Sobha Manhattan Towers',\n",
       "  'Brigade Gem',\n",
       "  'Prestige Eden Park',\n",
       "  'Godrej Park Retreat',\n",
       "  'Sobha Brooklyn',\n",
       "  'Valmark Cityville',\n",
       "  'Reliable Ecity',\n",
       "  'Vaishnavi Serene',\n",
       "  'Purva Tivoli Hills',\n",
       "  'Prestige Golfshire',\n",
       "  'Prestige Royale Gardens',\n",
       "  'Prestige Woodland Park',\n",
       "  'Atmos and Aura',\n",
       "  'Embassy Springs',\n",
       "  'Vaishnavi Life'],\n",
       " 'BHK_Type': ['1RK,1.5,2BHK',\n",
       "  '1RK,1,1.5,2,3BHK',\n",
       "  '1RK,1,1.5,2,3BHK',\n",
       "  '1,2,2.5BHK',\n",
       "  '3BHK',\n",
       "  '3,4BHK',\n",
       "  '3BHK',\n",
       "  '1RK,2BHK',\n",
       "  '2,3BHK',\n",
       "  '1,2,3,4BHK',\n",
       "  '1,2,3BHK',\n",
       "  '1,2BHK',\n",
       "  '1,2,3BHK',\n",
       "  '2BHK',\n",
       "  '2,3BHK',\n",
       "  '2.5BHK',\n",
       "  '2,3,4BHK',\n",
       "  '2,3BHK',\n",
       "  '3,4BHK',\n",
       "  '2,3,4BHK',\n",
       "  '1,2,3,4BHK',\n",
       "  '2,3BHK',\n",
       "  '2,3BHK',\n",
       "  '2,3BHK',\n",
       "  '3BHK',\n",
       "  '2,3BHK',\n",
       "  '1,2,3BHK',\n",
       "  '1,2,3BHK',\n",
       "  '1,2,2.5BHK',\n",
       "  '3,4BHK',\n",
       "  '1,2BHK',\n",
       "  '1,2,3BHK',\n",
       "  '1,2,3BHK',\n",
       "  '4BHK',\n",
       "  '2,3BHK',\n",
       "  '2.5,3,3.5BHK',\n",
       "  '1,1.5,2BHK',\n",
       "  '2,4+BHK',\n",
       "  '1RK,1,1.5,2BHK'],\n",
       " 'Price_Lacs': ['45, 56, 90,145',\n",
       "  '48,62,110',\n",
       "  '26,32,42,48,62',\n",
       "  '63,80,100',\n",
       "  '88',\n",
       "  '255,410',\n",
       "  '145',\n",
       "  '33,84',\n",
       "  '83,97',\n",
       "  '47,7448,60,72',\n",
       "  '34,54',\n",
       "  '40,50,72',\n",
       "  '52',\n",
       "  '52,62',\n",
       "  '142',\n",
       "  '110,143,174',\n",
       "  '89,141',\n",
       "  '230,680',\n",
       "  '72',\n",
       "  '45,79,100,140',\n",
       "  '35,45',\n",
       "  '67,85',\n",
       "  '71,86',\n",
       "  '110',\n",
       "  '82,110',\n",
       "  '40,57',\n",
       "  '43,59,77',\n",
       "  '40,70,83',\n",
       "  '232,230',\n",
       "  '62,7792',\n",
       "  '261376',\n",
       "  '54,68,108',\n",
       "  '1099',\n",
       "  '81',\n",
       "  '220,260,320',\n",
       "  '63,70,86',\n",
       "  '155,623',\n",
       "  '48,61,80,95',\n",
       "  '193']}"
      ]
     },
     "execution_count": 58,
     "metadata": {},
     "output_type": "execute_result"
    }
   ],
   "source": [
    "property_detail"
   ]
  },
  {
   "cell_type": "code",
   "execution_count": 60,
   "id": "c90afbbc-a229-4a47-ab9b-d3b2103883d4",
   "metadata": {},
   "outputs": [],
   "source": [
    "import json \n",
    "\n",
    "      \n",
    "# Serializing json  \n",
    "# json_object = json.dumps(property_detail, indent = 4) \n",
    "# print(json_object)"
   ]
  },
  {
   "cell_type": "code",
   "execution_count": 63,
   "id": "849a0e00-b7b6-436b-a5ab-e466f51c7aae",
   "metadata": {},
   "outputs": [],
   "source": [
    "with open(\"Property_detail.json\", \"w\") as outfile:\n",
    "    json.dump(property_detail,outfile)"
   ]
  },
  {
   "cell_type": "code",
   "execution_count": 64,
   "id": "c14e4c63-3f24-4e01-9ef4-7efc6e510703",
   "metadata": {},
   "outputs": [],
   "source": [
    "import pandas as pd"
   ]
  },
  {
   "cell_type": "code",
   "execution_count": 65,
   "id": "2c62fd21-69a9-47af-9215-4100e8afe615",
   "metadata": {},
   "outputs": [],
   "source": [
    "data = pd.read_json(\"Property_detail.json\")"
   ]
  },
  {
   "cell_type": "code",
   "execution_count": 66,
   "id": "7c348d10-4088-4620-b9ac-0f7bfa7a8038",
   "metadata": {},
   "outputs": [
    {
     "data": {
      "text/html": [
       "<div>\n",
       "<style scoped>\n",
       "    .dataframe tbody tr th:only-of-type {\n",
       "        vertical-align: middle;\n",
       "    }\n",
       "\n",
       "    .dataframe tbody tr th {\n",
       "        vertical-align: top;\n",
       "    }\n",
       "\n",
       "    .dataframe thead th {\n",
       "        text-align: right;\n",
       "    }\n",
       "</style>\n",
       "<table border=\"1\" class=\"dataframe\">\n",
       "  <thead>\n",
       "    <tr style=\"text-align: right;\">\n",
       "      <th></th>\n",
       "      <th>Project_Name</th>\n",
       "      <th>BHK_Type</th>\n",
       "      <th>Price_Lacs</th>\n",
       "    </tr>\n",
       "  </thead>\n",
       "  <tbody>\n",
       "    <tr>\n",
       "      <th>0</th>\n",
       "      <td>Prestige Marigold</td>\n",
       "      <td>1RK,1.5,2BHK</td>\n",
       "      <td>45, 56, 90,145</td>\n",
       "    </tr>\n",
       "    <tr>\n",
       "      <th>1</th>\n",
       "      <td>Codename Rhythm of North 2</td>\n",
       "      <td>1RK,1,1.5,2,3BHK</td>\n",
       "      <td>48,62,110</td>\n",
       "    </tr>\n",
       "    <tr>\n",
       "      <th>2</th>\n",
       "      <td>Ivory At Brigade</td>\n",
       "      <td>1RK,1,1.5,2,3BHK</td>\n",
       "      <td>26,32,42,48,62</td>\n",
       "    </tr>\n",
       "    <tr>\n",
       "      <th>3</th>\n",
       "      <td>Brigade Cornerstone Utopia</td>\n",
       "      <td>1,2,2.5BHK</td>\n",
       "      <td>63,80,100</td>\n",
       "    </tr>\n",
       "    <tr>\n",
       "      <th>4</th>\n",
       "      <td>prestige meridian park</td>\n",
       "      <td>3BHK</td>\n",
       "      <td>88</td>\n",
       "    </tr>\n",
       "  </tbody>\n",
       "</table>\n",
       "</div>"
      ],
      "text/plain": [
       "                 Project_Name          BHK_Type      Price_Lacs\n",
       "0           Prestige Marigold      1RK,1.5,2BHK  45, 56, 90,145\n",
       "1  Codename Rhythm of North 2  1RK,1,1.5,2,3BHK       48,62,110\n",
       "2            Ivory At Brigade  1RK,1,1.5,2,3BHK  26,32,42,48,62\n",
       "3  Brigade Cornerstone Utopia        1,2,2.5BHK       63,80,100\n",
       "4      prestige meridian park              3BHK              88"
      ]
     },
     "execution_count": 66,
     "metadata": {},
     "output_type": "execute_result"
    }
   ],
   "source": [
    "data.head()"
   ]
  },
  {
   "cell_type": "code",
   "execution_count": 67,
   "id": "625c10be-76c0-4b38-b275-19b7fa62b132",
   "metadata": {},
   "outputs": [],
   "source": [
    "json_object = json.dumps(property_detail, indent = 4) "
   ]
  },
  {
   "cell_type": "code",
   "execution_count": 78,
   "id": "206f8618-0687-42cd-bd8d-82a553e9fdcf",
   "metadata": {},
   "outputs": [
    {
     "data": {
      "text/plain": [
       "str"
      ]
     },
     "execution_count": 78,
     "metadata": {},
     "output_type": "execute_result"
    }
   ],
   "source": [
    "type(json_object)"
   ]
  },
  {
   "cell_type": "code",
   "execution_count": null,
   "id": "0283cf4e-5a4e-43b9-90be-c5db635774de",
   "metadata": {},
   "outputs": [
    {
     "data": {
      "text/plain": [
       "{'Project_Name': ['Prestige Marigold',\n",
       "  'Codename Rhythm of North 2',\n",
       "  'Ivory At Brigade',\n",
       "  'Brigade Cornerstone Utopia',\n",
       "  'prestige meridian park',\n",
       "  'Adarsh Premia',\n",
       "  'Adarsh Palm Retreat Mayberry',\n",
       "  'Assetz 63 degree East - Tower B',\n",
       "  'Brigade 7 Gardens',\n",
       "  'Parkside East By Brigade',\n",
       "  'Godrej Woodland',\n",
       "  'Prestige Primrose Hills',\n",
       "  'Provident Park Square/Park One',\n",
       "  'My Home My Life',\n",
       "  'Provident Equinox / Sundeck',\n",
       "  'Shriram Southern Crest',\n",
       "  'Sobha Windsor',\n",
       "  'Sobha Arena',\n",
       "  'Sobha Clovelly',\n",
       "  'Sobha Dream Acres',\n",
       "  'Prestige Jindal City',\n",
       "  'Shriram Dil Chahta Hai',\n",
       "  'Assetz Canvas & cove',\n",
       "  'Brigade Plumeria Lifestyle',\n",
       "  'Sobha Manhattan Towers',\n",
       "  'Brigade Gem',\n",
       "  'Prestige Eden Park',\n",
       "  'Godrej Park Retreat',\n",
       "  'Sobha Brooklyn',\n",
       "  'Valmark Cityville',\n",
       "  'Reliable Ecity',\n",
       "  'Vaishnavi Serene',\n",
       "  'Purva Tivoli Hills',\n",
       "  'Prestige Golfshire',\n",
       "  'Prestige Royale Gardens',\n",
       "  'Prestige Woodland Park',\n",
       "  'Atmos and Aura',\n",
       "  'Embassy Springs',\n",
       "  'Vaishnavi Life'],\n",
       " 'BHK_Type': ['1RK,1.5,2BHK',\n",
       "  '1RK,1,1.5,2,3BHK',\n",
       "  '1RK,1,1.5,2,3BHK',\n",
       "  '1,2,2.5BHK',\n",
       "  '3BHK',\n",
       "  '3,4BHK',\n",
       "  '3BHK',\n",
       "  '1RK,2BHK',\n",
       "  '2,3BHK',\n",
       "  '1,2,3,4BHK',\n",
       "  '1,2,3BHK',\n",
       "  '1,2BHK',\n",
       "  '1,2,3BHK',\n",
       "  '2BHK',\n",
       "  '2,3BHK',\n",
       "  '2.5BHK',\n",
       "  '2,3,4BHK',\n",
       "  '2,3BHK',\n",
       "  '3,4BHK',\n",
       "  '2,3,4BHK',\n",
       "  '1,2,3,4BHK',\n",
       "  '2,3BHK',\n",
       "  '2,3BHK',\n",
       "  '2,3BHK',\n",
       "  '3BHK',\n",
       "  '2,3BHK',\n",
       "  '1,2,3BHK',\n",
       "  '1,2,3BHK',\n",
       "  '1,2,2.5BHK',\n",
       "  '3,4BHK',\n",
       "  '1,2BHK',\n",
       "  '1,2,3BHK',\n",
       "  '1,2,3BHK',\n",
       "  '4BHK',\n",
       "  '2,3BHK',\n",
       "  '2.5,3,3.5BHK',\n",
       "  '1,1.5,2BHK',\n",
       "  '2,4+BHK',\n",
       "  '1RK,1,1.5,2BHK'],\n",
       " 'Price_Lacs': ['45, 56, 90,145',\n",
       "  '48,62,110',\n",
       "  '26,32,42,48,62',\n",
       "  '63,80,100',\n",
       "  '88',\n",
       "  '255,410',\n",
       "  '145',\n",
       "  '33,84',\n",
       "  '83,97',\n",
       "  '47,7448,60,72',\n",
       "  '34,54',\n",
       "  '40,50,72',\n",
       "  '52',\n",
       "  '52,62',\n",
       "  '142',\n",
       "  '110,143,174',\n",
       "  '89,141',\n",
       "  '230,680',\n",
       "  '72',\n",
       "  '45,79,100,140',\n",
       "  '35,45',\n",
       "  '67,85',\n",
       "  '71,86',\n",
       "  '110',\n",
       "  '82,110',\n",
       "  '40,57',\n",
       "  '43,59,77',\n",
       "  '40,70,83',\n",
       "  '232,230',\n",
       "  '62,7792',\n",
       "  '261376',\n",
       "  '54,68,108',\n",
       "  '1099',\n",
       "  '81',\n",
       "  '220,260,320',\n",
       "  '63,70,86',\n",
       "  '155,623',\n",
       "  '48,61,80,95',\n",
       "  '193']}"
      ]
     },
     "execution_count": 74,
     "metadata": {},
     "output_type": "execute_result"
    }
   ],
   "source": [
    "json.loads(json_object)"
   ]
  }
 ],
 "metadata": {
  "kernelspec": {
   "display_name": "Python 3 (ipykernel)",
   "language": "python",
   "name": "python3"
  },
  "language_info": {
   "codemirror_mode": {
    "name": "ipython",
    "version": 3
   },
   "file_extension": ".py",
   "mimetype": "text/x-python",
   "name": "python",
   "nbconvert_exporter": "python",
   "pygments_lexer": "ipython3",
   "version": "3.9.12"
  },
  "widgets": {
   "application/vnd.jupyter.widget-state+json": {
    "state": {},
    "version_major": 2,
    "version_minor": 0
   }
  }
 },
 "nbformat": 4,
 "nbformat_minor": 5
}
