{
 "cells": [
  {
   "cell_type": "code",
   "execution_count": 54,
   "id": "4cad6327-8e26-4c6c-bcdf-a05d4815b486",
   "metadata": {},
   "outputs": [
    {
     "name": "stdout",
     "output_type": "stream",
     "text": [
      "Email sent successfully!\n"
     ]
    }
   ],
   "source": [
    "import smtplib\n",
    "from email.mime.multipart import MIMEMultipart\n",
    "from email.mime.text import MIMEText\n",
    "\n",
    "\n",
    "def send_email(receiver_email, subject, body):\n",
    "    # sender_email = \"info@unboxfame.us\"\n",
    "    # password = 'R13-@-y}^NF,'\n",
    "    sender_email = \"Poojadas2014.pd@gmail.com\"\n",
    "    password = 'eiyzdixtjemkacoh'\n",
    "\n",
    "    message = MIMEMultipart()\n",
    "    message[\"From\"] = sender_email\n",
    "    message[\"To\"] = receiver_email\n",
    "    message[\"Subject\"] = subject\n",
    "\n",
    "    message.attach(MIMEText(body, \"html\"))\n",
    "\n",
    "    try:\n",
    "        # server = smtplib.SMTP_SSL(\"mail.unboxfame.us\", 465)  # Set SMTP server and port\n",
    "        server = smtplib.SMTP_SSL('smtp.gmail.com', 465)  # Set SMTP server and port\n",
    "        # s=smtplib.SMTP('smtp.gmail.com', 587))  # Set SMTP server and port\n",
    "        server.login(sender_email, password)\n",
    "        server.sendmail(sender_email,receiver_email, message.as_string())\n",
    "        print(\"Email sent successfully!\")\n",
    "    except Exception as e:\n",
    "        print(\"Failed to send email.\")\n",
    "        print(e)\n",
    "    finally:\n",
    "        server.quit()\n",
    "\n",
    "\n",
    "# receiver_emails=[\"pooja.das@unboxfame.com\",\"iamitrohilla@gmail.com\",\"poojadas98@outlook.com\",\"poojadas2014.pd@gmail.com\",\"poojadigitech@gmail.com\",\"amitjustmind@gmail.com\",\"Amit.kumar540.ak41@gmail.com\",\"Amitkumar@unboxfame.com\",\"expert@unboxfame.com\",\"pooja.das@unboxfame.com\",\"iamitrohilla@gmail.com\",\"poojadas98@outlook\",\"poojadas2014.pd@gmail.com\",\"poojadigitech@gmail.com\",\"amitjustmind@gmail.com\",\"Amit.kumar540.ak41@gmail.com\",\"Amitkumar@unboxfame.com\",\"expert@unboxfame.com\",'pooja.das@unboxfame.com', 'mansoor@unboxfame.com', 'amitkumar@unboxfame.com']\n",
    "# receiver_emails=[\"iamitrohilla@gmail.com\",\"poojadas93@outlook.com\",\"poojadas2014.pd@gmail.com\",\"poojadigitech@gmail.com\",\"amitjustmind@gmail.com\",\"Amit.kumar540.ak41@gmail.com\",\"iamitrohilla@gmail.com\",\"poojadas93@outlook\",\"poojadas2014.pd@gmail.com\",\"poojadigitech@gmail.com\",\"amitjustmind@gmail.com\",\"Amit.kumar540.ak41@gmail.com\",\"manas.itax@gmail.com\"]\n",
    "receiver_emails=[\"manas.itax@gmail.com\"]\n",
    "\n",
    "subject = 'Testing mail'\n",
    "message = '''\n",
    "<!DOCTYPE html>\n",
    "<html>\n",
    "<head>\n",
    "    <title>Congratulations on Your New Start-Up Business</title>\n",
    "</head>\n",
    "<body>\n",
    "    <p>Dear Sir/Ma’am <strong>Amit</strong>,</p>\n",
    "\n",
    "    <p>We, Unboxfame, congratulate you on your new start-up business <strong>AmitChaiWala</strong> established on <strong>2023</strong> for the <strong>Food</strong> category.</p>\n",
    "\n",
    "    <p>We have noticed that your business does not have the recognition that it deserves to have. We are willing to offer you a helping hand to boost your business with us by getting a new business name that not just stays everlasting but is also memorable for everyone.</p>\n",
    "\n",
    "    <p>We give you a face through a very creative yet attractive logo that represents you in the industry. A logo that satisfies you with just a blink of an eye.</p>\n",
    "\n",
    "    <p>We provide you with 360-degree digital marketing, creating your own social media handle page handled by our expert SEOs. We also create the website and do the refinement your website needs giving it a whole new face.</p>\n",
    "\n",
    "    <p>For any queries, let us know or contact us on the information given below:</p>\n",
    "\n",
    "    <p>Phone no.: <a href=\"tel:09871446557\">09871446557</a></p>\n",
    "    <p>Website: <a href=\"http://www.unboxfame.com\">www.unboxfame.com</a></p>\n",
    "    <p>Address: 133, 2ND Floor, Western Marg, Lane Number 1, Saidulajab, Saket, New Delhi, Delhi - 110030</p>\n",
    "\n",
    "    <p>Regards &amp; Thanks</p>\n",
    "    <p>Unboxfame</p>\n",
    "    <p>Brand Naming Agency</p>\n",
    "    <p>Logo Creation</p>\n",
    "    <p>Digital Marketing 360&deg;</p>\n",
    "</body>\n",
    "</html>\n",
    "'''\n",
    "# encoded_lst = [ [e.encode('UTF-8') for e in receiver_emails]]\n",
    "# receiver_emailb =[j for inner in encoded_lst for j in inner ]\n",
    "for receiver_email in receiver_emails:\n",
    "    send_email(receiver_email, subject, message)\n"
   ]
  },
  {
   "cell_type": "code",
   "execution_count": 3,
   "id": "bbb629ba-56a4-40c4-924f-58116790c1d9",
   "metadata": {},
   "outputs": [
    {
     "data": {
      "text/plain": [
       "'Already taken'"
      ]
     },
     "execution_count": 3,
     "metadata": {},
     "output_type": "execute_result"
    }
   ],
   "source": [
    "import whois\n",
    "def check_domain_availability(domain_name):\n",
    "\n",
    "    try:\n",
    "        w = whois.whois(domain_name)\n",
    "        if w.status is None:\n",
    "            return \"Available\"\n",
    "        else:\n",
    "            return \"Already taken\"\n",
    "    except Exception as e:\n",
    "        return \"Available\"\n",
    "\n",
    "# Call the function to check the availability of the domain name\n",
    "domain_name = \"unboxcgggfame.com\"\n",
    "check_domain_availability(domain_name)\n"
   ]
  },
  {
   "cell_type": "code",
   "execution_count": 2,
   "id": "7f41fe27-caa9-4414-8386-978ea5bc32ea",
   "metadata": {},
   "outputs": [
    {
     "name": "stdout",
     "output_type": "stream",
     "text": [
      "Collecting python-whoisNote: you may need to restart the kernel to use updated packages.\n",
      "\n",
      "  Using cached python-whois-0.8.0.tar.gz (109 kB)\n",
      "  Preparing metadata (setup.py): started\n",
      "  Preparing metadata (setup.py): finished with status 'done'\n",
      "Requirement already satisfied: future in c:\\users\\admin\\anaconda3\\lib\\site-packages (from python-whois) (0.18.3)\n",
      "Building wheels for collected packages: python-whois\n",
      "  Building wheel for python-whois (setup.py): started\n",
      "  Building wheel for python-whois (setup.py): finished with status 'done'\n",
      "  Created wheel for python-whois: filename=python_whois-0.8.0-py3-none-any.whl size=103273 sha256=98d36407347203739513c593028659e2ff0a652b122dd855c496cf421db5dd14\n",
      "  Stored in directory: c:\\users\\admin\\appdata\\local\\pip\\cache\\wheels\\f7\\ab\\00\\08a45a044bbdf998048131658b00796aa2ef5127b3e54995cb\n",
      "Successfully built python-whois\n",
      "Installing collected packages: python-whois\n",
      "Successfully installed python-whois-0.8.0\n"
     ]
    }
   ],
   "source": [
    "pip install python-whois"
   ]
  },
  {
   "cell_type": "code",
   "execution_count": 1,
   "id": "30972c51-b9cd-49e2-b93a-adf21f5fd307",
   "metadata": {},
   "outputs": [],
   "source": [
    "form_data = [\n",
    "        {'id': 1, 'input_value': 'Value 1'},\n",
    "        {'id': 2, 'input_value': 'kjj'},\n",
    "        {'id': 3, 'input_value': 'Value 3'}\n",
    "    ]"
   ]
  },
  {
   "cell_type": "code",
   "execution_count": 9,
   "id": "09233542-6915-4a3c-a379-7e2d3aab0a08",
   "metadata": {},
   "outputs": [
    {
     "name": "stdout",
     "output_type": "stream",
     "text": [
      "Value 1\n",
      "kjj\n",
      "Value 3\n"
     ]
    }
   ],
   "source": [
    " for form in form_data:\n",
    "        print(form['input_value'])"
   ]
  },
  {
   "cell_type": "code",
   "execution_count": 33,
   "id": "a660f52e-03af-4fec-90d5-e592f479bc89",
   "metadata": {},
   "outputs": [],
   "source": [
    "receiver_emails=[\"iamitrohilla@gmail.com\",\"poojadas98@outlook.com\",\"poojadas2014.pd@gmail.com\",\"poojadigitech@gmail.com\",\"amitjustmind@gmail.com\",\"Amit.kumar540.ak41@gmail.com\",\"iamitrohilla@gmail.com\",\"poojadas98@outlook\",\"poojadas2014.pd@gmail.com\",\"poojadigitech@gmail.com\",\"amitjustmind@gmail.com\",\"Amit.kumar540.ak41@gmail.com\"]\n",
    "encoded_lst = [ [e.encode('UTF-8') for e in receiver_emails]] "
   ]
  },
  {
   "cell_type": "code",
   "execution_count": 12,
   "id": "429f7ae7-1927-4bc5-9195-a91ced4a5537",
   "metadata": {},
   "outputs": [
    {
     "ename": "AttributeError",
     "evalue": "'list' object has no attribute 'encode'",
     "output_type": "error",
     "traceback": [
      "\u001b[1;31m---------------------------------------------------------------------------\u001b[0m",
      "\u001b[1;31mAttributeError\u001b[0m                            Traceback (most recent call last)",
      "Cell \u001b[1;32mIn[12], line 1\u001b[0m\n\u001b[1;32m----> 1\u001b[0m \u001b[43mreceiver_emails\u001b[49m\u001b[38;5;241;43m.\u001b[39;49m\u001b[43mencode\u001b[49m()\n",
      "\u001b[1;31mAttributeError\u001b[0m: 'list' object has no attribute 'encode'"
     ]
    }
   ],
   "source": [
    "receiver_emails.encode()"
   ]
  },
  {
   "cell_type": "code",
   "execution_count": 51,
   "id": "2280da08-70fb-4082-8a9c-a2bfaa45d2fc",
   "metadata": {},
   "outputs": [
    {
     "name": "stdout",
     "output_type": "stream",
     "text": [
      "iamitrohilla@gmail.com\n",
      "Email sent successfully!\n",
      "poojadas98@outlook.com\n",
      "Email sent successfully!\n",
      "poojadas2014.pd@gmail.com\n",
      "Email sent successfully!\n",
      "poojadigitech@gmail.com\n",
      "Email sent successfully!\n",
      "amitjustmind@gmail.com\n",
      "Email sent successfully!\n",
      "Amit.kumar540.ak41@gmail.com\n",
      "Email sent successfully!\n",
      "iamitrohilla@gmail.com\n",
      "Email sent successfully!\n",
      "poojadas98@outlook\n",
      "Email sent successfully!\n",
      "poojadas2014.pd@gmail.com\n",
      "Email sent successfully!\n",
      "poojadigitech@gmail.com\n",
      "Email sent successfully!\n",
      "amitjustmind@gmail.com\n",
      "Email sent successfully!\n",
      "Amit.kumar540.ak41@gmail.com\n",
      "Email sent successfully!\n"
     ]
    }
   ],
   "source": [
    "encoded_lst = [ [e.encode('UTF-8') for e in receiver_emails]]\n",
    "receiver_emailb =[j for inner in encoded_lst for j in inner ]\n",
    "for receiver_email in receiver_emails:\n",
    "    print(str(receiver_email))\n",
    "    send_email(str(receiver_email), subject, message)"
   ]
  },
  {
   "cell_type": "code",
   "execution_count": 47,
   "id": "d45287d9-a7c8-4934-b879-2115045b9864",
   "metadata": {},
   "outputs": [
    {
     "name": "stdout",
     "output_type": "stream",
     "text": [
      "Email sent successfully!\n"
     ]
    }
   ],
   "source": [
    "send_email('poojadas93@outlook.com', subject, message)"
   ]
  },
  {
   "cell_type": "code",
   "execution_count": 42,
   "id": "0835e8af-7897-4e20-b65c-8c931b1b6299",
   "metadata": {},
   "outputs": [
    {
     "data": {
      "text/plain": [
       "[b'iamitrohilla@gmail.com',\n",
       " b'poojadas98@outlook.com',\n",
       " b'poojadas2014.pd@gmail.com',\n",
       " b'poojadigitech@gmail.com',\n",
       " b'amitjustmind@gmail.com',\n",
       " b'Amit.kumar540.ak41@gmail.com',\n",
       " b'iamitrohilla@gmail.com',\n",
       " b'poojadas98@outlook',\n",
       " b'poojadas2014.pd@gmail.com',\n",
       " b'poojadigitech@gmail.com',\n",
       " b'amitjustmind@gmail.com',\n",
       " b'Amit.kumar540.ak41@gmail.com']"
      ]
     },
     "execution_count": 42,
     "metadata": {},
     "output_type": "execute_result"
    }
   ],
   "source": [
    "k =[j for inner in encoded_lst for j inFailed to send email.\n",
    "'bytes' object has no attribute 'encode'\n",
    "\n",
    "\n",
    "\n",
    "\n",
    "\n",
    "\n",
    "k =[j for inner in encoded_lst for j in inner ]\n",
    "k =[j for inner in encoded_lst for j in inner ]\n",
    "k  \n",
    "[b'iamitrohilla@gmail.com',\n",
    " b'poojadas98@outlook.com',\n",
    " b'poojadas2014.pd@gmail.com',\n",
    " b'poojadigitech@gmail.com',\n",
    " b'amitjustmind@gmail.com',\n",
    " b'Amit.kumar540.ak41@gmail.com', inner ]\n",
    "k  "
   ]
  },
  {
   "cell_type": "code",
   "execution_count": 30,
   "id": "ee0fd29b-f521-4d67-a2f1-2ec7d85d51d0",
   "metadata": {},
   "outputs": [
    {
     "name": "stdout",
     "output_type": "stream",
     "text": [
      "302\n"
     ]
    }
   ],
   "source": [
    "encoded_lst = ', '.join(receiver_emails)\n",
    "print(len(encoded_lst))"
   ]
  },
  {
   "cell_type": "code",
   "execution_count": 27,
   "id": "9fd622f1-07a3-4bed-863e-ad7ae63e6c59",
   "metadata": {},
   "outputs": [
    {
     "name": "stdout",
     "output_type": "stream",
     "text": [
      "Unauthorized\n",
      "Error: 401\n"
     ]
    }
   ],
   "source": [
    "\n",
    "import requests\n",
    "\n",
    "api_username = \"poojabox-test\"\n",
    "api_token = \"1cf0e1f4b6d12735d5d48a8ac4c520106e077c93\"\n",
    "base_url = 'https://api.dev.name.com/'\n",
    "\n",
    "def check_domain_availability(domain_name):\n",
    "    url = base_url + 'v4/domains:checkAvailability'\n",
    "    headers = {\n",
    "        'Api-Username': api_username,\n",
    "        'Api-Token': api_token,\n",
    "        'Content-Type': 'application/json'\n",
    "    }\n",
    "    payload = {\n",
    "        'domainNames': [domain_name]\n",
    "    }\n",
    "    response = requests.post(url, headers=headers, json=payload)\n",
    "    print(response.reason)\n",
    "    if response.status_code == 200:\n",
    "        data = response.json()\n",
    "        availability = data['results'][0]['available']\n",
    "        if availability:\n",
    "            prices = data['results'][0]['purchasePrice']\n",
    "            print(f\"The domain '{domain_name}' is available.\")\n",
    "            print(f\"Prices: {prices}\")\n",
    "        else:\n",
    "            print(f\"The domain '{domain_name}' is not available.\")\n",
    "    else:\n",
    "        print('Error:', response.status_code)\n",
    "\n",
    "# Call the function to check availability and prices\n",
    "domain = 'crazypooja'\n",
    "check_domain_availability(domain)\n"
   ]
  },
  {
   "cell_type": "code",
   "execution_count": 3,
   "id": "7774b6a0-d6d1-4e2f-b014-08b8c2e07cd7",
   "metadata": {},
   "outputs": [
    {
     "name": "stdout",
     "output_type": "stream",
     "text": [
      "<html>\n",
      "<body>\n",
      "<h1>Hello World</h1>\n",
      "</body>\n",
      "</html>\n"
     ]
    }
   ],
   "source": [
    "print(message)"
   ]
  },
  {
   "cell_type": "code",
   "execution_count": 13,
   "id": "f0718b2d-28e8-4965-bdd0-0ff79e4f2aff",
   "metadata": {},
   "outputs": [
    {
     "name": "stdout",
     "output_type": "stream",
     "text": [
      "Failed to check domain availability.\n"
     ]
    }
   ],
   "source": [
    "import requests\n",
    "\n",
    "api_username = 'dodo'\n",
    "api_token = '8ee39576ec6f5473f81b72aea15f348dfab5e7bc'\n",
    "base_url = 'https://api.name.com/'\n",
    "\n",
    "def check_domain_availability(domain_name):\n",
    "    url = base_url + 'v4/domains:search'\n",
    "    headers = {\n",
    "        'Api-Username': api_username,\n",
    "        'Api-Token': api_token,\n",
    "        'Content-Type': 'application/json'\n",
    "    }\n",
    "    payload = {\n",
    "        'keyword': domain_name\n",
    "    }\n",
    "    response = requests.post(url, headers=headers, json=payload)\n",
    "    if response.status_code == 200:\n",
    "        data = response.json()\n",
    "        results = data['results']\n",
    "        if results:\n",
    "            available = results[0]['availability']\n",
    "            if available == 'available':\n",
    "                return True\n",
    "            else:\n",
    "                return False\n",
    "    return None\n",
    "\n",
    "def get_domain_prices(domain_name):\n",
    "    url = base_url + 'v4/domains:purchase'\n",
    "    headers = {\n",
    "        'Api-Username': api_username,\n",
    "        'Api-Token': api_token,\n",
    "        'Content-Type': 'application/json'\n",
    "    }\n",
    "    payload = {\n",
    "        'items': [\n",
    "            {\n",
    "                'domainName': domain_name\n",
    "            }\n",
    "        ]\n",
    "    }\n",
    "    response = requests.post(url, headers=headers, json=payload)\n",
    "    if response.status_code == 200:\n",
    "        data = response.json()\n",
    "        results = data['results']\n",
    "        if results:\n",
    "            prices = results[0]['purchasePrice']\n",
    "            return prices\n",
    "    return None\n",
    "\n",
    "# Check domain availability\n",
    "domain = 'crazypooja'\n",
    "availability = check_domain_availability(domain)\n",
    "if availability is not None:\n",
    "    if availability:\n",
    "        print(f\"The domain '{domain}' is available.\")\n",
    "        prices = get_domain_prices(domain)\n",
    "        if prices is not None:\n",
    "            print(f\"Prices: {prices}\")\n",
    "        else:\n",
    "            print(\"Failed to fetch prices.\")\n",
    "    else:\n",
    "        print(f\"The domain '{domain}' is not available.\")\n",
    "else:\n",
    "    print(\"Failed to check domain availability.\")\n"
   ]
  },
  {
   "cell_type": "code",
   "execution_count": 2,
   "id": "c6b4094a-cc02-4009-a05e-91b5bc9d2e23",
   "metadata": {},
   "outputs": [
    {
     "name": "stdout",
     "output_type": "stream",
     "text": [
      "Domain Name: UNBOXFAME.COM\n",
      "Registration Status: client delete prohibited\n"
     ]
    },
    {
     "ename": "KeyError",
     "evalue": "'registration'",
     "output_type": "error",
     "traceback": [
      "\u001b[1;31m---------------------------------------------------------------------------\u001b[0m",
      "\u001b[1;31mKeyError\u001b[0m                                  Traceback (most recent call last)",
      "Cell \u001b[1;32mIn[2], line 20\u001b[0m\n\u001b[0;32m     17\u001b[0m         \u001b[38;5;28mprint\u001b[39m(\u001b[38;5;124mf\u001b[39m\u001b[38;5;124m\"\u001b[39m\u001b[38;5;124mAn error occurred: \u001b[39m\u001b[38;5;132;01m{\u001b[39;00me\u001b[38;5;132;01m}\u001b[39;00m\u001b[38;5;124m\"\u001b[39m)\n\u001b[0;32m     19\u001b[0m \u001b[38;5;66;03m# Search for the domain name \"CrazyPooja\"\u001b[39;00m\n\u001b[1;32m---> 20\u001b[0m \u001b[43msearch_domain\u001b[49m\u001b[43m(\u001b[49m\u001b[38;5;124;43m\"\u001b[39;49m\u001b[38;5;124;43munboxfame.com\u001b[39;49m\u001b[38;5;124;43m\"\u001b[39;49m\u001b[43m)\u001b[49m\n",
      "Cell \u001b[1;32mIn[2], line 12\u001b[0m, in \u001b[0;36msearch_domain\u001b[1;34m(domain_name)\u001b[0m\n\u001b[0;32m     10\u001b[0m     \u001b[38;5;28mprint\u001b[39m(\u001b[38;5;124mf\u001b[39m\u001b[38;5;124m\"\u001b[39m\u001b[38;5;124mDomain Name: \u001b[39m\u001b[38;5;132;01m{\u001b[39;00mdomain_data[\u001b[38;5;124m'\u001b[39m\u001b[38;5;124mldhName\u001b[39m\u001b[38;5;124m'\u001b[39m]\u001b[38;5;132;01m}\u001b[39;00m\u001b[38;5;124m\"\u001b[39m)\n\u001b[0;32m     11\u001b[0m     \u001b[38;5;28mprint\u001b[39m(\u001b[38;5;124mf\u001b[39m\u001b[38;5;124m\"\u001b[39m\u001b[38;5;124mRegistration Status: \u001b[39m\u001b[38;5;132;01m{\u001b[39;00mdomain_data[\u001b[38;5;124m'\u001b[39m\u001b[38;5;124mstatus\u001b[39m\u001b[38;5;124m'\u001b[39m][\u001b[38;5;241m0\u001b[39m]\u001b[38;5;132;01m}\u001b[39;00m\u001b[38;5;124m\"\u001b[39m)\n\u001b[1;32m---> 12\u001b[0m     \u001b[38;5;28mprint\u001b[39m(\u001b[38;5;124mf\u001b[39m\u001b[38;5;124m\"\u001b[39m\u001b[38;5;124mRegistration Date: \u001b[39m\u001b[38;5;132;01m{\u001b[39;00mdomain_data[\u001b[38;5;124m'\u001b[39m\u001b[38;5;124mregistration\u001b[39m\u001b[38;5;124m'\u001b[39m][\u001b[38;5;124m'\u001b[39m\u001b[38;5;124mcreated\u001b[39m\u001b[38;5;124m'\u001b[39m]\u001b[38;5;132;01m}\u001b[39;00m\u001b[38;5;124m\"\u001b[39m)\n\u001b[0;32m     13\u001b[0m     \u001b[38;5;28mprint\u001b[39m(\u001b[38;5;124mf\u001b[39m\u001b[38;5;124m\"\u001b[39m\u001b[38;5;124mExpiry Date: \u001b[39m\u001b[38;5;132;01m{\u001b[39;00mdomain_data[\u001b[38;5;124m'\u001b[39m\u001b[38;5;124mregistration\u001b[39m\u001b[38;5;124m'\u001b[39m][\u001b[38;5;124m'\u001b[39m\u001b[38;5;124mexpires\u001b[39m\u001b[38;5;124m'\u001b[39m]\u001b[38;5;132;01m}\u001b[39;00m\u001b[38;5;124m\"\u001b[39m)\n\u001b[0;32m     14\u001b[0m \u001b[38;5;28;01melse\u001b[39;00m:\n",
      "\u001b[1;31mKeyError\u001b[0m: 'registration'"
     ]
    }
   ],
   "source": [
    "import requests\n",
    "\n",
    "def search_domain(domain_name):\n",
    "    url = f\"https://rdap.verisign.com/com/v1/domain/{domain_name}\"\n",
    "\n",
    "    try:\n",
    "        response = requests.get(url)\n",
    "        if response.status_code == 200:\n",
    "            domain_data = response.json()\n",
    "            print(f\"Domain Name: {domain_data['ldhName']}\")\n",
    "            print(f\"Registration Status: {domain_data['status'][0]}\")\n",
    "            print(f\"Registration Date: {domain_data['registration']['created']}\")\n",
    "            print(f\"Expiry Date: {domain_data['registration']['expires']}\")\n",
    "        else:\n",
    "            print(\"Domain not found.\")\n",
    "    except requests.exceptions.RequestException as e:\n",
    "        print(f\"An error occurred: {e}\")\n",
    "\n",
    "# Search for the domain name \"CrazyPooja\"\n",
    "search_domain(\"unboxfame.com\")\n"
   ]
  },
  {
   "cell_type": "code",
   "execution_count": null,
   "id": "56b8e1c0-d813-4b17-b10a-e07d83e51c1b",
   "metadata": {},
   "outputs": [],
   "source": [
    "import smtplib\n",
    "\n",
    "list_of_mail_id=[\"poojadas93@outlook.com\",\"Poojadas2014.pd@gmail.com\",\"shivan@ineuron.ai\",\n",
    "                 \"sudhanshu@ineuron.ai\",\"poojadasdatascience@gmail.com\"]\n",
    "\n",
    "# Creates SMTP(Simple Mail Transport Protocol) session\n",
    "s=smtplib.SMTP('smtp.gmail.com', 587)#465,587\n",
    "\n",
    "# Start TLS(Transport Leyer Security ) for security\n",
    "\n",
    "\n",
    "s.starttls()\n",
    "\n",
    "# Authentication\n",
    "\n",
    "s.login(\"poojadasdatascience@gmail.com\",\"iucuevwfzohtbooi\")\n",
    "\n",
    "# Message to be sent\n",
    "\n",
    "message=\"\"\"Hello, This is Testing Message for My Python Program.\n",
    "If You you Getting this mail Means My Python Program work absolutely Fine.\n",
    "and I hope You Are doing good.\n",
    "Jai Hind\"\"\"\n",
    "\n",
    "# Sending the mail\n",
    "\n",
    "for send_mail in list_of_mail_id:\n",
    "    s.sendmail(\"poojadasdatascience@gmail.com\",send_mail,message)\n",
    "\n",
    "# Terminating the session\n",
    "s.quit()\n",
    "\n",
    "print(\"Please Check your SPAM Folder\")"
   ]
  }
 ],
 "metadata": {
  "kernelspec": {
   "display_name": "Python 3 (ipykernel)",
   "language": "python",
   "name": "python3"
  },
  "language_info": {
   "codemirror_mode": {
    "name": "ipython",
    "version": 3
   },
   "file_extension": ".py",
   "mimetype": "text/x-python",
   "name": "python",
   "nbconvert_exporter": "python",
   "pygments_lexer": "ipython3",
   "version": "3.10.9"
  }
 },
 "nbformat": 4,
 "nbformat_minor": 5
}
