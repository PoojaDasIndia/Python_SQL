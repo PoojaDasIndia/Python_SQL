{
 "cells": [
  {
   "cell_type": "code",
   "execution_count": 1,
   "id": "7a5e8ccc-6023-4f05-bfe6-2de422f03102",
   "metadata": {},
   "outputs": [],
   "source": [
    "# Import Packages\n",
    "import requests\n",
    "from bs4 import BeautifulSoup as bs\n",
    "import pandas as pd\n",
    "from selenium import webdriver\n",
    "from selenium.webdriver.common.by import By\n",
    "from selenium.webdriver.common.keys import Keys\n",
    "from selenium.webdriver.chrome.service import Service\n",
    "from time import sleep"
   ]
  },
  {
   "cell_type": "code",
   "execution_count": 2,
   "id": "577f4a4e-1d6c-4f2a-a54e-fb07d7814432",
   "metadata": {},
   "outputs": [
    {
     "name": "stderr",
     "output_type": "stream",
     "text": [
      "C:\\Users\\admin\\AppData\\Local\\Temp\\ipykernel_21676\\3792459821.py:2: DeprecationWarning: executable_path has been deprecated, please pass in a Service object\n",
      "  browser=webdriver.Chrome(executable_path=path)\n"
     ]
    }
   ],
   "source": [
    "path=\"C:chromedriver_win32/chromedriver.exe\"\n",
    "browser=webdriver.Chrome(executable_path=path)"
   ]
  },
  {
   "cell_type": "code",
   "execution_count": 5,
   "id": "9da91fb9-abdd-44f1-b497-305e4ff33686",
   "metadata": {},
   "outputs": [],
   "source": [
    "url='https://www.google.com/search?q=Accessories+business+in+gurgaon&biw=1280&bih=601&tbs=qdr%3Ad&sxsrf=APwXEdeUCUeVJB6O1b_Ux8CR0gBBTIaVsw%3A1686652620405&ei=zEaIZNSyGK6F4-EPmsq_oAk&ved=0ahUKEwjUyLHShsD_AhWuwjgGHRrlD5QQ4dUDCA8&uact=5&oq=Accessories+business+in+gurgaon&gs_lcp=Cgxnd3Mtd2l6LXNlcnAQAzIFCCEQoAEyBQghEKABMggIIRAWEB4QHToHCCMQsAMQJzoKCAAQRxDWBBCwAzoKCAAQigUQsAMQQzoVCC4QigUQxwEQ0QMQyAMQsAMQQxgBOhcILhCKBRDHARDRAxDIAxCwAxAKEEMYAToPCC4QigUQyAMQsAMQQxgBOhIILhCKBRDIAxCwAxBDEIsDGAFKBAhBGABQ-BNY-BNg_StoAnABeACAAd8BiAHfAZIBAzItMZgBAKABAqABAbgBAsABAcgBEtoBBggBEAEYCA&sclient=gws-wiz-serp'\n",
    "browser.get(url)\n",
    "browser.maximize_window()"
   ]
  },
  {
   "cell_type": "code",
   "execution_count": 6,
   "id": "4bbb9cd7-e061-4cf1-a0a8-48947899f429",
   "metadata": {},
   "outputs": [],
   "source": [
    "name =[]\n",
    "link=[] \n",
    "\n",
    "element = browser.find_elements(By.XPATH,'//div[@class=\"yuRUbf\"]//a')                               \n",
    "for i in element:\n",
    "    link.append(i.get_attribute('href'))\n",
    "element = browser.find_elements(By.XPATH,'//div[@class=\"yuRUbf\"]//h3')                               \n",
    "for i in element:\n",
    "    name.append(i.text)  "
   ]
  },
  {
   "cell_type": "code",
   "execution_count": 7,
   "id": "448b3276-dfc8-49c8-8bad-fba74788c6e0",
   "metadata": {},
   "outputs": [
    {
     "data": {
      "text/plain": [
       "['Merchant - Gurgaon - Fashion Accessories - 5 to 6 years of ...',\n",
       " '119 Leather Industry, Leather Goods, Bags, Wallet Jobs ...',\n",
       " '99 Apparel, Garment, Buying House Quality Jobs and ...',\n",
       " '23 Sales in jewellery Jobs in Gurgaon, Haryana, June 2023',\n",
       " 'Accessories - Trade Fair',\n",
       " 'Brandshops hiring E-Commerce Sales Internship in Delhi ...',\n",
       " 'Account Executive (Sales) - SWAROVSKI',\n",
       " 'Food Cart in Gurgaon, Free classifieds in Gurgaon']"
      ]
     },
     "execution_count": 7,
     "metadata": {},
     "output_type": "execute_result"
    }
   ],
   "source": [
    "name"
   ]
  },
  {
   "cell_type": "code",
   "execution_count": 36,
   "id": "09e453b6-44d1-4602-a58b-b193a0fa9154",
   "metadata": {},
   "outputs": [
    {
     "name": "stdout",
     "output_type": "stream",
     "text": [
      "PAGE 1 SCRASCRAP \n",
      "PAGE 2 SCRASCRAP \n",
      "PAGE 3 SCRASCRAP \n",
      "PAGE 4 SCRASCRAP \n",
      "PAGE 5 SCRASCRAP \n",
      "PAGE 6 SCRASCRAP \n",
      "PAGE 7 SCRASCRAP \n",
      "PAGE 8 SCRASCRAP \n",
      "PAGE 9 SCRASCRAP \n",
      "PAGE 10 SCRASCRAP \n",
      "PAGE 11 SCRASCRAP \n",
      "PAGE 12 SCRASCRAP \n",
      "PAGE 13 SCRASCRAP \n",
      "PAGE 14 SCRASCRAP \n",
      "PAGE 15 SCRASCRAP \n",
      "PAGE 16 SCRASCRAP \n",
      "PAGE 17 SCRASCRAP \n",
      "PAGE 18 SCRASCRAP \n",
      "PAGE 19 SCRASCRAP \n",
      "PAGE 20 SCRASCRAP \n",
      "PAGE 21 SCRASCRAP \n",
      "PAGE 22 SCRASCRAP \n",
      "PAGE 23 SCRASCRAP \n",
      "PAGE 24 SCRASCRAP \n",
      "PAGE 25 SCRASCRAP \n",
      "PAGE 26 SCRASCRAP \n",
      "PAGE 27 SCRASCRAP \n",
      "PAGE 28 SCRASCRAP \n",
      "PAGE 29 SCRASCRAP \n",
      "Page End\n"
     ]
    }
   ],
   "source": [
    "LinkedIn =[]\n",
    "LinkedIn_link=[]\n",
    "try:\n",
    "\n",
    "    for page in range(1,100):\n",
    "        element = browser.find_elements(By.XPATH,'//div[@class=\"yuRUbf\"]//a')                               \n",
    "        for i in element:\n",
    "            LinkedIn_link.append(i.get_attribute('href'))\n",
    "        element = browser.find_elements(By.XPATH,'//div[@class=\"yuRUbf\"]//h3')                               \n",
    "        for i in element:\n",
    "            # LinkedIn_link.append(i.get_attribute('href'))\n",
    "            LinkedIn.append(i.text)                           \n",
    "        browser.find_element(By.XPATH,'//a[@id=\"pnnext\"]').click() \n",
    "        print(f\"PAGE {page} SCRASCRAP \")\n",
    "except:\n",
    "    print(\"Page End\")\n"
   ]
  },
  {
   "cell_type": "code",
   "execution_count": 48,
   "id": "0aace959-7bef-487a-b43d-6c83ecc62f59",
   "metadata": {},
   "outputs": [],
   "source": [
    "about_link=[]\n",
    "for link in LinkedIn_link:\n",
    "    about_link.append(link+\"/about/\")\n"
   ]
  },
  {
   "cell_type": "code",
   "execution_count": 135,
   "id": "eea562ca-019e-40fa-9545-2ea59573bb06",
   "metadata": {},
   "outputs": [
    {
     "data": {
      "text/plain": [
       "299"
      ]
     },
     "execution_count": 135,
     "metadata": {},
     "output_type": "execute_result"
    }
   ],
   "source": [
    "len(LinkedIn)"
   ]
  },
  {
   "cell_type": "code",
   "execution_count": null,
   "id": "fd4e724d-d818-4ac3-b087-aea6ec1b140e",
   "metadata": {},
   "outputs": [],
   "source": [
    "website=[]\n",
    "phone=[]\n",
    "name=[]\n",
    "detail=[]\n",
    "for link in range(299):\n",
    "    browser.get(about_link[link])\n",
    "    sleep(5)\n",
    "    \n",
    "    try:\n",
    "        data=browser.find_element(By.XPATH,'(//div[@class=\"ember-view\"]//section)[1]//a').get_attribute('href')\n",
    "        website.append(data)\n",
    "    except:     \n",
    "        website.append('')\n",
    "        \n",
    "#     try:\n",
    "#         data=browser.find_elements(By.XPATH,'(//div[@class=\"ember-view\"]//section)[1]//a')\n",
    "#         for i in data:\n",
    "#             if (i.text).startswith('9') or (i.text).startswith('+') or (i.text).isnumeric() :\n",
    "#                 phone.append(i.text.split('\\n')[0])\n",
    "#                 print(i.text.split('\\n')[0])\n",
    "#             else:\n",
    "#                 phone.append('')\n",
    "            \n",
    "#     except:     \n",
    "#         phone.append('')    \n",
    "           \n",
    "    name.append(LinkedIn[link]) \n",
    "    detail.append(about_link[link])\n",
    "    print(link)\n",
    "           \n",
    "   \n",
    "    \n"
   ]
  },
  {
   "cell_type": "code",
   "execution_count": 144,
   "id": "4b59f962-73d3-4fdb-8a7f-93c4c07ba999",
   "metadata": {},
   "outputs": [
    {
     "data": {
      "text/plain": [
       "11"
      ]
     },
     "execution_count": 144,
     "metadata": {},
     "output_type": "execute_result"
    }
   ],
   "source": [
    "len(name ) \n",
    "# browser.get(url)\n",
    "# browser.maximize_window()\n",
    "# for element in browser.find_elements(By.XPATH,'//div[@class=\"pb-5\"]//div[@class=\"col-md-12\"]') :\n",
    "#     i=element.find_element(By.XPATH,'(//div[@id=\"result1\"]//div//a)[1]')\n",
    "#     print(i.get_attribute('href'))\n",
    "# '9540949817'.isnumeric()    \n",
    "# website"
   ]
  },
  {
   "cell_type": "code",
   "execution_count": 76,
   "id": "51204059-8705-42c9-a895-a7f3a8390f89",
   "metadata": {},
   "outputs": [
    {
     "name": "stdout",
     "output_type": "stream",
     "text": [
      "http://www.kolhapurbusiness.com/companyinfo/creative-sales-and-services-kolhapur-1977.html\n"
     ]
    }
   ],
   "source": [
    "for i in element.find_elements(By.XPATH,'(//div[@id=\"result1\"]//div//a)[1]'):\n",
    "    print(i.get_attribute('href'))\n",
    "      "
   ]
  },
  {
   "cell_type": "code",
   "execution_count": 106,
   "id": "0fcb5db7-0db7-447f-913a-6f1287de2af4",
   "metadata": {},
   "outputs": [
    {
     "data": {
      "text/plain": [
       "6"
      ]
     },
     "execution_count": 106,
     "metadata": {},
     "output_type": "execute_result"
    }
   ],
   "source": [
    "len(phone)"
   ]
  },
  {
   "cell_type": "code",
   "execution_count": 107,
   "id": "72cde701-e9d9-428a-8ac9-22e6f617b4ac",
   "metadata": {},
   "outputs": [
    {
     "data": {
      "text/plain": [
       "['',\n",
       " '9540949817\\nPhone number is 9540949817',\n",
       " '',\n",
       " '',\n",
       " '9205658119\\nPhone number is 9205658119',\n",
       " '']"
      ]
     },
     "execution_count": 107,
     "metadata": {},
     "output_type": "execute_result"
    }
   ],
   "source": [
    "phone"
   ]
  },
  {
   "cell_type": "code",
   "execution_count": 109,
   "id": "574cb0b5-82b8-4702-9b9f-6a1ccebd9d1f",
   "metadata": {},
   "outputs": [
    {
     "data": {
      "text/plain": [
       "'9540949817'"
      ]
     },
     "execution_count": 109,
     "metadata": {},
     "output_type": "execute_result"
    }
   ],
   "source": [
    "'9540949817\\nPhone number is 9540949817'.split('\\n')[0]"
   ]
  },
  {
   "cell_type": "code",
   "execution_count": 112,
   "id": "0e4202df-3304-4cbc-87ef-5a39929c34a1",
   "metadata": {},
   "outputs": [],
   "source": [
    "import pandas"
   ]
  },
  {
   "cell_type": "code",
   "execution_count": 131,
   "id": "6f3f5e4b-4a32-41ee-974a-1ef11550c565",
   "metadata": {},
   "outputs": [],
   "source": [
    "wedsited=pd.DataFrame({\n",
    "                'Website':website,\n",
    "               })"
   ]
  },
  {
   "cell_type": "code",
   "execution_count": 132,
   "id": "cf418750-21f0-46c2-ab7b-fc74771149cf",
   "metadata": {},
   "outputs": [],
   "source": [
    "phoned=pd.DataFrame({\n",
    "                'Phone':phone,\n",
    "               })"
   ]
  },
  {
   "cell_type": "code",
   "execution_count": 134,
   "id": "285d782c-7ce0-405a-922c-cd996d7d311b",
   "metadata": {},
   "outputs": [
    {
     "data": {
      "text/plain": [
       "334"
      ]
     },
     "execution_count": 134,
     "metadata": {},
     "output_type": "execute_result"
    }
   ],
   "source": [
    "len(wedsited)"
   ]
  },
  {
   "cell_type": "code",
   "execution_count": 138,
   "id": "624ab899-1f13-4a0b-a7e9-c660931befd4",
   "metadata": {},
   "outputs": [],
   "source": [
    "phoned.to_csv(\"linkedinp.csv\",index=False)"
   ]
  },
  {
   "cell_type": "code",
   "execution_count": null,
   "id": "017ab28e-7d6c-406f-aa45-a3a735b0728f",
   "metadata": {},
   "outputs": [],
   "source": []
  }
 ],
 "metadata": {
  "kernelspec": {
   "display_name": "Python 3 (ipykernel)",
   "language": "python",
   "name": "python3"
  },
  "language_info": {
   "codemirror_mode": {
    "name": "ipython",
    "version": 3
   },
   "file_extension": ".py",
   "mimetype": "text/x-python",
   "name": "python",
   "nbconvert_exporter": "python",
   "pygments_lexer": "ipython3",
   "version": "3.10.9"
  }
 },
 "nbformat": 4,
 "nbformat_minor": 5
}
