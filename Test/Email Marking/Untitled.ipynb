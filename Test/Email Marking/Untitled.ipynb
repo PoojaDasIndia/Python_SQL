{
 "cells": [
  {
   "cell_type": "code",
   "execution_count": 17,
   "id": "89819ea8-cf7c-4d58-96ba-951d04924f9d",
   "metadata": {},
   "outputs": [],
   "source": [
    "s='<html><p>An excellent clothing company name should be unique, snappy, and consistent with your brand. Additionally, it should be simple to say and spell to encourage word-of-mouth advertising. Make sure your selected name is not already in use by conducting a thorough search, and consider trademark registration for legal protection.</p></html>'"
   ]
  },
  {
   "cell_type": "code",
   "execution_count": 18,
   "id": "5a5d2eac-7346-4f70-a041-000fa1d4e18e",
   "metadata": {},
   "outputs": [
    {
     "data": {
      "text/plain": [
       "True"
      ]
     },
     "execution_count": 18,
     "metadata": {},
     "output_type": "execute_result"
    }
   ],
   "source": [
    "\" trademark registration\" in s"
   ]
  },
  {
   "cell_type": "code",
   "execution_count": 19,
   "id": "7cdff7f0-1967-46a8-b097-f36370993a0a",
   "metadata": {},
   "outputs": [
    {
     "name": "stdout",
     "output_type": "stream",
     "text": [
      "<html><p>An excellent clothing company name should be unique, snappy, and consistent with your brand. Additionally, it should be simple to say and spell to encourage word-of-mouth advertising. Make sure your selected name is not already in use by conducting a thorough search, and consider<a href=#> trademark registration</a> for legal protection.</p></html>\n"
     ]
    }
   ],
   "source": [
    "if \" trademark registration\" in s:\n",
    "    print(s.replace(\" trademark registration\",'<a href=#> trademark registration</a>'))\n",
    "else:\n",
    "    print('r')\n",
    "    # s.replace(' trademark registration','manas')\n",
    "    # print(s)"
   ]
  },
  {
   "cell_type": "code",
   "execution_count": 5,
   "id": "a7d07a6d-c5b1-40cb-acce-88196e306623",
   "metadata": {},
   "outputs": [
    {
     "data": {
      "text/plain": [
       "'An excellent clothing company name should be unique, snappy, and consistent with your brand. Additionally, it should be simple to say and spell to encourage word-of-mouth advertising. Make sure your selected name is not already in use by conducting a thorough search, and consider trademark registration for legal protection.'"
      ]
     },
     "execution_count": 5,
     "metadata": {},
     "output_type": "execute_result"
    }
   ],
   "source": [
    "s"
   ]
  },
  {
   "cell_type": "code",
   "execution_count": null,
   "id": "8bbce8de-650b-4fa5-84c2-e57a4f5214f1",
   "metadata": {},
   "outputs": [],
   "source": []
  }
 ],
 "metadata": {
  "kernelspec": {
   "display_name": "Python 3 (ipykernel)",
   "language": "python",
   "name": "python3"
  },
  "language_info": {
   "codemirror_mode": {
    "name": "ipython",
    "version": 3
   },
   "file_extension": ".py",
   "mimetype": "text/x-python",
   "name": "python",
   "nbconvert_exporter": "python",
   "pygments_lexer": "ipython3",
   "version": "3.10.9"
  }
 },
 "nbformat": 4,
 "nbformat_minor": 5
}
