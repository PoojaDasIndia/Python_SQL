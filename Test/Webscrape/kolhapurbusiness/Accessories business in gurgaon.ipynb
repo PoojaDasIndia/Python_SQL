{
 "cells": [
  {
   "cell_type": "code",
   "execution_count": 105,
   "id": "7a5e8ccc-6023-4f05-bfe6-2de422f03102",
   "metadata": {},
   "outputs": [],
   "source": [
    "# Import Packages\n",
    "import requests\n",
    "from bs4 import BeautifulSoup as bs\n",
    "import pandas as pd\n",
    "from selenium import webdriver\n",
    "from selenium.webdriver.common.by import By\n",
    "from selenium.webdriver.common.keys import Keys\n",
    "from selenium.webdriver.chrome.service import Service\n",
    "from time import sleep"
   ]
  },
  {
   "cell_type": "code",
   "execution_count": 106,
   "id": "577f4a4e-1d6c-4f2a-a54e-fb07d7814432",
   "metadata": {},
   "outputs": [
    {
     "name": "stderr",
     "output_type": "stream",
     "text": [
      "C:\\Users\\admin\\AppData\\Local\\Temp\\ipykernel_2612\\3792459821.py:2: DeprecationWarning: executable_path has been deprecated, please pass in a Service object\n",
      "  browser=webdriver.Chrome(executable_path=path)\n"
     ]
    }
   ],
   "source": [
    "path=\"C:chromedriver_win32/chromedriver.exe\"\n",
    "browser=webdriver.Chrome(executable_path=path)"
   ]
  },
  {
   "cell_type": "code",
   "execution_count": 113,
   "id": "9da91fb9-abdd-44f1-b497-305e4ff33686",
   "metadata": {},
   "outputs": [],
   "source": [
    "browser.get('https://www.google.com/search')\n",
    "browser.maximize_window()"
   ]
  },
  {
   "cell_type": "code",
   "execution_count": 114,
   "id": "7b6eda72-99b9-4121-bce2-2d85518b8571",
   "metadata": {},
   "outputs": [],
   "source": [
    "input_search_Category=browser.find_element(By.XPATH,'//textarea[@class=\"gLFyf\"]')\n",
    "Keyword='Clothing & Accessories  in Bangalore'\n",
    "input_search_Category.send_keys(Keyword)\n",
    "sleep(1)\n",
    "input_search_Category.click()\n",
    "sleep(2)\n"
   ]
  },
  {
   "cell_type": "code",
   "execution_count": 116,
   "id": "2d108026-a6a5-4a59-b93c-be5438cfbd28",
   "metadata": {},
   "outputs": [],
   "source": [
    "search_button=browser.find_element(By.XPATH,'//div[@class=\"lJ9FBc\"]//center//input[@class=\"gNO89b\"]')\n",
    "search_button.click()"
   ]
  },
  {
   "cell_type": "code",
   "execution_count": 120,
   "id": "fc8edb40-568f-4430-a5eb-4e90365537cd",
   "metadata": {},
   "outputs": [
    {
     "ename": "InvalidSelectorException",
     "evalue": "Message: invalid selector: Unable to locate an element with the xpath expression (//div[@class=\"oYWfcb OSrXXb RB2q5e\"]//a[@class=\"CHn7Qb pYouzb\") because of the following error:\nSyntaxError: Failed to execute 'evaluate' on 'Document': The string '(//div[@class=\"oYWfcb OSrXXb RB2q5e\"]//a[@class=\"CHn7Qb pYouzb\")' is not a valid XPath expression.\n  (Session info: chrome=114.0.5735.110)\nStacktrace:\nBacktrace:\n\tGetHandleVerifier [0x0085A813+48355]\n\t(No symbol) [0x007EC4B1]\n\t(No symbol) [0x006F5358]\n\t(No symbol) [0x006F87A1]\n\t(No symbol) [0x006F99E1]\n\t(No symbol) [0x006F9A80]\n\t(No symbol) [0x0072061C]\n\t(No symbol) [0x00720B3B]\n\t(No symbol) [0x0074E232]\n\t(No symbol) [0x0073A784]\n\t(No symbol) [0x0074C922]\n\t(No symbol) [0x0073A536]\n\t(No symbol) [0x007182DC]\n\t(No symbol) [0x007193DD]\n\tGetHandleVerifier [0x00ABAABD+2539405]\n\tGetHandleVerifier [0x00AFA78F+2800735]\n\tGetHandleVerifier [0x00AF456C+2775612]\n\tGetHandleVerifier [0x008E51E0+616112]\n\t(No symbol) [0x007F5F8C]\n\t(No symbol) [0x007F2328]\n\t(No symbol) [0x007F240B]\n\t(No symbol) [0x007E4FF7]\n\tBaseThreadInitThunk [0x75817D59+25]\n\tRtlInitializeExceptionChain [0x7733B74B+107]\n\tRtlClearBits [0x7733B6CF+191]\n",
     "output_type": "error",
     "traceback": [
      "\u001b[1;31m---------------------------------------------------------------------------\u001b[0m",
      "\u001b[1;31mInvalidSelectorException\u001b[0m                  Traceback (most recent call last)",
      "Cell \u001b[1;32mIn[120], line 1\u001b[0m\n\u001b[1;32m----> 1\u001b[0m more_button\u001b[38;5;241m=\u001b[39m\u001b[43mbrowser\u001b[49m\u001b[38;5;241;43m.\u001b[39;49m\u001b[43mfind_element\u001b[49m\u001b[43m(\u001b[49m\u001b[43mBy\u001b[49m\u001b[38;5;241;43m.\u001b[39;49m\u001b[43mXPATH\u001b[49m\u001b[43m,\u001b[49m\u001b[38;5;124;43m'\u001b[39;49m\u001b[38;5;124;43m(//div[@class=\u001b[39;49m\u001b[38;5;124;43m\"\u001b[39;49m\u001b[38;5;124;43moYWfcb OSrXXb RB2q5e\u001b[39;49m\u001b[38;5;124;43m\"\u001b[39;49m\u001b[38;5;124;43m]//a[@class=\u001b[39;49m\u001b[38;5;124;43m\"\u001b[39;49m\u001b[38;5;124;43mCHn7Qb pYouzb\u001b[39;49m\u001b[38;5;124;43m\"\u001b[39;49m\u001b[38;5;124;43m)\u001b[39;49m\u001b[38;5;124;43m'\u001b[39;49m\u001b[43m)\u001b[49m\n\u001b[0;32m      2\u001b[0m more_button\u001b[38;5;241m.\u001b[39mclick()\n",
      "File \u001b[1;32m~\\anaconda3\\lib\\site-packages\\selenium\\webdriver\\remote\\webdriver.py:831\u001b[0m, in \u001b[0;36mWebDriver.find_element\u001b[1;34m(self, by, value)\u001b[0m\n\u001b[0;32m    828\u001b[0m     by \u001b[38;5;241m=\u001b[39m By\u001b[38;5;241m.\u001b[39mCSS_SELECTOR\n\u001b[0;32m    829\u001b[0m     value \u001b[38;5;241m=\u001b[39m \u001b[38;5;124mf\u001b[39m\u001b[38;5;124m'\u001b[39m\u001b[38;5;124m[name=\u001b[39m\u001b[38;5;124m\"\u001b[39m\u001b[38;5;132;01m{\u001b[39;00mvalue\u001b[38;5;132;01m}\u001b[39;00m\u001b[38;5;124m\"\u001b[39m\u001b[38;5;124m]\u001b[39m\u001b[38;5;124m'\u001b[39m\n\u001b[1;32m--> 831\u001b[0m \u001b[38;5;28;01mreturn\u001b[39;00m \u001b[38;5;28;43mself\u001b[39;49m\u001b[38;5;241;43m.\u001b[39;49m\u001b[43mexecute\u001b[49m\u001b[43m(\u001b[49m\u001b[43mCommand\u001b[49m\u001b[38;5;241;43m.\u001b[39;49m\u001b[43mFIND_ELEMENT\u001b[49m\u001b[43m,\u001b[49m\u001b[43m \u001b[49m\u001b[43m{\u001b[49m\u001b[38;5;124;43m\"\u001b[39;49m\u001b[38;5;124;43musing\u001b[39;49m\u001b[38;5;124;43m\"\u001b[39;49m\u001b[43m:\u001b[49m\u001b[43m \u001b[49m\u001b[43mby\u001b[49m\u001b[43m,\u001b[49m\u001b[43m \u001b[49m\u001b[38;5;124;43m\"\u001b[39;49m\u001b[38;5;124;43mvalue\u001b[39;49m\u001b[38;5;124;43m\"\u001b[39;49m\u001b[43m:\u001b[49m\u001b[43m \u001b[49m\u001b[43mvalue\u001b[49m\u001b[43m}\u001b[49m\u001b[43m)\u001b[49m[\u001b[38;5;124m\"\u001b[39m\u001b[38;5;124mvalue\u001b[39m\u001b[38;5;124m\"\u001b[39m]\n",
      "File \u001b[1;32m~\\anaconda3\\lib\\site-packages\\selenium\\webdriver\\remote\\webdriver.py:440\u001b[0m, in \u001b[0;36mWebDriver.execute\u001b[1;34m(self, driver_command, params)\u001b[0m\n\u001b[0;32m    438\u001b[0m response \u001b[38;5;241m=\u001b[39m \u001b[38;5;28mself\u001b[39m\u001b[38;5;241m.\u001b[39mcommand_executor\u001b[38;5;241m.\u001b[39mexecute(driver_command, params)\n\u001b[0;32m    439\u001b[0m \u001b[38;5;28;01mif\u001b[39;00m response:\n\u001b[1;32m--> 440\u001b[0m     \u001b[38;5;28;43mself\u001b[39;49m\u001b[38;5;241;43m.\u001b[39;49m\u001b[43merror_handler\u001b[49m\u001b[38;5;241;43m.\u001b[39;49m\u001b[43mcheck_response\u001b[49m\u001b[43m(\u001b[49m\u001b[43mresponse\u001b[49m\u001b[43m)\u001b[49m\n\u001b[0;32m    441\u001b[0m     response[\u001b[38;5;124m\"\u001b[39m\u001b[38;5;124mvalue\u001b[39m\u001b[38;5;124m\"\u001b[39m] \u001b[38;5;241m=\u001b[39m \u001b[38;5;28mself\u001b[39m\u001b[38;5;241m.\u001b[39m_unwrap_value(response\u001b[38;5;241m.\u001b[39mget(\u001b[38;5;124m\"\u001b[39m\u001b[38;5;124mvalue\u001b[39m\u001b[38;5;124m\"\u001b[39m, \u001b[38;5;28;01mNone\u001b[39;00m))\n\u001b[0;32m    442\u001b[0m     \u001b[38;5;28;01mreturn\u001b[39;00m response\n",
      "File \u001b[1;32m~\\anaconda3\\lib\\site-packages\\selenium\\webdriver\\remote\\errorhandler.py:245\u001b[0m, in \u001b[0;36mErrorHandler.check_response\u001b[1;34m(self, response)\u001b[0m\n\u001b[0;32m    243\u001b[0m         alert_text \u001b[38;5;241m=\u001b[39m value[\u001b[38;5;124m\"\u001b[39m\u001b[38;5;124malert\u001b[39m\u001b[38;5;124m\"\u001b[39m]\u001b[38;5;241m.\u001b[39mget(\u001b[38;5;124m\"\u001b[39m\u001b[38;5;124mtext\u001b[39m\u001b[38;5;124m\"\u001b[39m)\n\u001b[0;32m    244\u001b[0m     \u001b[38;5;28;01mraise\u001b[39;00m exception_class(message, screen, stacktrace, alert_text)  \u001b[38;5;66;03m# type: ignore[call-arg]  # mypy is not smart enough here\u001b[39;00m\n\u001b[1;32m--> 245\u001b[0m \u001b[38;5;28;01mraise\u001b[39;00m exception_class(message, screen, stacktrace)\n",
      "\u001b[1;31mInvalidSelectorException\u001b[0m: Message: invalid selector: Unable to locate an element with the xpath expression (//div[@class=\"oYWfcb OSrXXb RB2q5e\"]//a[@class=\"CHn7Qb pYouzb\") because of the following error:\nSyntaxError: Failed to execute 'evaluate' on 'Document': The string '(//div[@class=\"oYWfcb OSrXXb RB2q5e\"]//a[@class=\"CHn7Qb pYouzb\")' is not a valid XPath expression.\n  (Session info: chrome=114.0.5735.110)\nStacktrace:\nBacktrace:\n\tGetHandleVerifier [0x0085A813+48355]\n\t(No symbol) [0x007EC4B1]\n\t(No symbol) [0x006F5358]\n\t(No symbol) [0x006F87A1]\n\t(No symbol) [0x006F99E1]\n\t(No symbol) [0x006F9A80]\n\t(No symbol) [0x0072061C]\n\t(No symbol) [0x00720B3B]\n\t(No symbol) [0x0074E232]\n\t(No symbol) [0x0073A784]\n\t(No symbol) [0x0074C922]\n\t(No symbol) [0x0073A536]\n\t(No symbol) [0x007182DC]\n\t(No symbol) [0x007193DD]\n\tGetHandleVerifier [0x00ABAABD+2539405]\n\tGetHandleVerifier [0x00AFA78F+2800735]\n\tGetHandleVerifier [0x00AF456C+2775612]\n\tGetHandleVerifier [0x008E51E0+616112]\n\t(No symbol) [0x007F5F8C]\n\t(No symbol) [0x007F2328]\n\t(No symbol) [0x007F240B]\n\t(No symbol) [0x007E4FF7]\n\tBaseThreadInitThunk [0x75817D59+25]\n\tRtlInitializeExceptionChain [0x7733B74B+107]\n\tRtlClearBits [0x7733B6CF+191]\n"
     ]
    }
   ],
   "source": [
    "more_button=browser.find_element(By.XPATH,'(//div[@class=\"oYWfcb OSrXXb RB2q5e\"]//a[@class=\"CHn7Qb pYouzb\")')\n",
    "more_button.click()"
   ]
  },
  {
   "cell_type": "code",
   "execution_count": null,
   "id": "a2f0baef-1f90-4de0-aa2b-4eb8ff5b9f28",
   "metadata": {},
   "outputs": [],
   "source": []
  },
  {
   "cell_type": "code",
   "execution_count": 102,
   "id": "c1706b37-e22e-4aef-ac55-0c715ac15439",
   "metadata": {},
   "outputs": [
    {
     "ename": "NoSuchElementException",
     "evalue": "Message: no such element: Unable to locate element: {\"method\":\"xpath\",\"selector\":\"(//span[@class=\"OSrXXb\"])[6]\"}\n  (Session info: chrome=114.0.5735.110)\nStacktrace:\nBacktrace:\n\tGetHandleVerifier [0x0085A813+48355]\n\t(No symbol) [0x007EC4B1]\n\t(No symbol) [0x006F5358]\n\t(No symbol) [0x007209A5]\n\t(No symbol) [0x00720B3B]\n\t(No symbol) [0x0074E232]\n\t(No symbol) [0x0073A784]\n\t(No symbol) [0x0074C922]\n\t(No symbol) [0x0073A536]\n\t(No symbol) [0x007182DC]\n\t(No symbol) [0x007193DD]\n\tGetHandleVerifier [0x00ABAABD+2539405]\n\tGetHandleVerifier [0x00AFA78F+2800735]\n\tGetHandleVerifier [0x00AF456C+2775612]\n\tGetHandleVerifier [0x008E51E0+616112]\n\t(No symbol) [0x007F5F8C]\n\t(No symbol) [0x007F2328]\n\t(No symbol) [0x007F240B]\n\t(No symbol) [0x007E4FF7]\n\tBaseThreadInitThunk [0x75817D59+25]\n\tRtlInitializeExceptionChain [0x7733B74B+107]\n\tRtlClearBits [0x7733B6CF+191]\n",
     "output_type": "error",
     "traceback": [
      "\u001b[1;31m---------------------------------------------------------------------------\u001b[0m",
      "\u001b[1;31mNoSuchElementException\u001b[0m                    Traceback (most recent call last)",
      "Cell \u001b[1;32mIn[102], line 11\u001b[0m\n\u001b[0;32m      9\u001b[0m \u001b[38;5;28;01mfor\u001b[39;00m i \u001b[38;5;129;01min\u001b[39;00m \u001b[38;5;28mrange\u001b[39m(\u001b[38;5;241m1\u001b[39m,\u001b[38;5;241m21\u001b[39m):\n\u001b[0;32m     10\u001b[0m     sleep(\u001b[38;5;241m3\u001b[39m)\n\u001b[1;32m---> 11\u001b[0m     \u001b[43mbrowser\u001b[49m\u001b[38;5;241;43m.\u001b[39;49m\u001b[43mfind_element\u001b[49m\u001b[43m(\u001b[49m\u001b[43mBy\u001b[49m\u001b[38;5;241;43m.\u001b[39;49m\u001b[43mXPATH\u001b[49m\u001b[43m,\u001b[49m\u001b[38;5;124;43mf\u001b[39;49m\u001b[38;5;124;43m'\u001b[39;49m\u001b[38;5;124;43m(//span[@class=\u001b[39;49m\u001b[38;5;124;43m\"\u001b[39;49m\u001b[38;5;124;43mOSrXXb\u001b[39;49m\u001b[38;5;124;43m\"\u001b[39;49m\u001b[38;5;124;43m])[\u001b[39;49m\u001b[38;5;132;43;01m{\u001b[39;49;00m\u001b[43mi\u001b[49m\u001b[38;5;132;43;01m}\u001b[39;49;00m\u001b[38;5;124;43m]\u001b[39;49m\u001b[38;5;124;43m'\u001b[39;49m\u001b[43m)\u001b[49m\u001b[38;5;241m.\u001b[39mclick()\n\u001b[0;32m     13\u001b[0m     data\u001b[38;5;241m=\u001b[39mbrowser\u001b[38;5;241m.\u001b[39mfind_element(By\u001b[38;5;241m.\u001b[39mXPATH,\u001b[38;5;124m'\u001b[39m\u001b[38;5;124m//div[@class=\u001b[39m\u001b[38;5;124m\"\u001b[39m\u001b[38;5;124mifM9O\u001b[39m\u001b[38;5;124m\"\u001b[39m\u001b[38;5;124m]\u001b[39m\u001b[38;5;124m'\u001b[39m)\n\u001b[0;32m     14\u001b[0m         \u001b[38;5;66;03m#     # name\u001b[39;00m\n",
      "File \u001b[1;32m~\\anaconda3\\lib\\site-packages\\selenium\\webdriver\\remote\\webdriver.py:831\u001b[0m, in \u001b[0;36mWebDriver.find_element\u001b[1;34m(self, by, value)\u001b[0m\n\u001b[0;32m    828\u001b[0m     by \u001b[38;5;241m=\u001b[39m By\u001b[38;5;241m.\u001b[39mCSS_SELECTOR\n\u001b[0;32m    829\u001b[0m     value \u001b[38;5;241m=\u001b[39m \u001b[38;5;124mf\u001b[39m\u001b[38;5;124m'\u001b[39m\u001b[38;5;124m[name=\u001b[39m\u001b[38;5;124m\"\u001b[39m\u001b[38;5;132;01m{\u001b[39;00mvalue\u001b[38;5;132;01m}\u001b[39;00m\u001b[38;5;124m\"\u001b[39m\u001b[38;5;124m]\u001b[39m\u001b[38;5;124m'\u001b[39m\n\u001b[1;32m--> 831\u001b[0m \u001b[38;5;28;01mreturn\u001b[39;00m \u001b[38;5;28;43mself\u001b[39;49m\u001b[38;5;241;43m.\u001b[39;49m\u001b[43mexecute\u001b[49m\u001b[43m(\u001b[49m\u001b[43mCommand\u001b[49m\u001b[38;5;241;43m.\u001b[39;49m\u001b[43mFIND_ELEMENT\u001b[49m\u001b[43m,\u001b[49m\u001b[43m \u001b[49m\u001b[43m{\u001b[49m\u001b[38;5;124;43m\"\u001b[39;49m\u001b[38;5;124;43musing\u001b[39;49m\u001b[38;5;124;43m\"\u001b[39;49m\u001b[43m:\u001b[49m\u001b[43m \u001b[49m\u001b[43mby\u001b[49m\u001b[43m,\u001b[49m\u001b[43m \u001b[49m\u001b[38;5;124;43m\"\u001b[39;49m\u001b[38;5;124;43mvalue\u001b[39;49m\u001b[38;5;124;43m\"\u001b[39;49m\u001b[43m:\u001b[49m\u001b[43m \u001b[49m\u001b[43mvalue\u001b[49m\u001b[43m}\u001b[49m\u001b[43m)\u001b[49m[\u001b[38;5;124m\"\u001b[39m\u001b[38;5;124mvalue\u001b[39m\u001b[38;5;124m\"\u001b[39m]\n",
      "File \u001b[1;32m~\\anaconda3\\lib\\site-packages\\selenium\\webdriver\\remote\\webdriver.py:440\u001b[0m, in \u001b[0;36mWebDriver.execute\u001b[1;34m(self, driver_command, params)\u001b[0m\n\u001b[0;32m    438\u001b[0m response \u001b[38;5;241m=\u001b[39m \u001b[38;5;28mself\u001b[39m\u001b[38;5;241m.\u001b[39mcommand_executor\u001b[38;5;241m.\u001b[39mexecute(driver_command, params)\n\u001b[0;32m    439\u001b[0m \u001b[38;5;28;01mif\u001b[39;00m response:\n\u001b[1;32m--> 440\u001b[0m     \u001b[38;5;28;43mself\u001b[39;49m\u001b[38;5;241;43m.\u001b[39;49m\u001b[43merror_handler\u001b[49m\u001b[38;5;241;43m.\u001b[39;49m\u001b[43mcheck_response\u001b[49m\u001b[43m(\u001b[49m\u001b[43mresponse\u001b[49m\u001b[43m)\u001b[49m\n\u001b[0;32m    441\u001b[0m     response[\u001b[38;5;124m\"\u001b[39m\u001b[38;5;124mvalue\u001b[39m\u001b[38;5;124m\"\u001b[39m] \u001b[38;5;241m=\u001b[39m \u001b[38;5;28mself\u001b[39m\u001b[38;5;241m.\u001b[39m_unwrap_value(response\u001b[38;5;241m.\u001b[39mget(\u001b[38;5;124m\"\u001b[39m\u001b[38;5;124mvalue\u001b[39m\u001b[38;5;124m\"\u001b[39m, \u001b[38;5;28;01mNone\u001b[39;00m))\n\u001b[0;32m    442\u001b[0m     \u001b[38;5;28;01mreturn\u001b[39;00m response\n",
      "File \u001b[1;32m~\\anaconda3\\lib\\site-packages\\selenium\\webdriver\\remote\\errorhandler.py:245\u001b[0m, in \u001b[0;36mErrorHandler.check_response\u001b[1;34m(self, response)\u001b[0m\n\u001b[0;32m    243\u001b[0m         alert_text \u001b[38;5;241m=\u001b[39m value[\u001b[38;5;124m\"\u001b[39m\u001b[38;5;124malert\u001b[39m\u001b[38;5;124m\"\u001b[39m]\u001b[38;5;241m.\u001b[39mget(\u001b[38;5;124m\"\u001b[39m\u001b[38;5;124mtext\u001b[39m\u001b[38;5;124m\"\u001b[39m)\n\u001b[0;32m    244\u001b[0m     \u001b[38;5;28;01mraise\u001b[39;00m exception_class(message, screen, stacktrace, alert_text)  \u001b[38;5;66;03m# type: ignore[call-arg]  # mypy is not smart enough here\u001b[39;00m\n\u001b[1;32m--> 245\u001b[0m \u001b[38;5;28;01mraise\u001b[39;00m exception_class(message, screen, stacktrace)\n",
      "\u001b[1;31mNoSuchElementException\u001b[0m: Message: no such element: Unable to locate element: {\"method\":\"xpath\",\"selector\":\"(//span[@class=\"OSrXXb\"])[6]\"}\n  (Session info: chrome=114.0.5735.110)\nStacktrace:\nBacktrace:\n\tGetHandleVerifier [0x0085A813+48355]\n\t(No symbol) [0x007EC4B1]\n\t(No symbol) [0x006F5358]\n\t(No symbol) [0x007209A5]\n\t(No symbol) [0x00720B3B]\n\t(No symbol) [0x0074E232]\n\t(No symbol) [0x0073A784]\n\t(No symbol) [0x0074C922]\n\t(No symbol) [0x0073A536]\n\t(No symbol) [0x007182DC]\n\t(No symbol) [0x007193DD]\n\tGetHandleVerifier [0x00ABAABD+2539405]\n\tGetHandleVerifier [0x00AFA78F+2800735]\n\tGetHandleVerifier [0x00AF456C+2775612]\n\tGetHandleVerifier [0x008E51E0+616112]\n\t(No symbol) [0x007F5F8C]\n\t(No symbol) [0x007F2328]\n\t(No symbol) [0x007F240B]\n\t(No symbol) [0x007E4FF7]\n\tBaseThreadInitThunk [0x75817D59+25]\n\tRtlInitializeExceptionChain [0x7733B74B+107]\n\tRtlClearBits [0x7733B6CF+191]\n"
     ]
    }
   ],
   "source": [
    "\n",
    "name=[]\n",
    "address=[]\n",
    "phone=[]\n",
    "category=[]\n",
    "star=[]\n",
    "website=[]\n",
    "count=1\n",
    "for j in range(1,10):\n",
    "    for i in range(1,21):\n",
    "        sleep(3)\n",
    "        browser.find_element(By.XPATH,f'(//span[@class=\"OSrXXb\"])[{i}]').click()\n",
    "\n",
    "        data=browser.find_element(By.XPATH,'//div[@class=\"ifM9O\"]')\n",
    "            #     # name\n",
    "        try:\n",
    "            name.append(data.find_element(By.XPATH,'//div[@class=\"Ftghae iirjIb DaSCDf GUV4E\"]//h2').text)\n",
    "        except:\n",
    "            name.append('nan')\n",
    "\n",
    "        try:\n",
    "            star.append(data.find_element(By.XPATH,'//div[@class=\"Ob2kfd\"]//div//span[@class=\"yi40Hd YrbPuc\"]').text)\n",
    "        except:\n",
    "            star.append('nan')\n",
    "\n",
    "\n",
    "        try:\n",
    "            address.append(data.find_element(By.XPATH,'//div[@class=\"zloOqf PZPZlf\"]//span[@class=\"LrzXr\"]').text)\n",
    "        except:\n",
    "            address.append('nan') \n",
    "\n",
    "        try:\n",
    "            phone.append(data.find_element(By.XPATH,'//a[@data-dtype=\"d3ph\"]//span').text)\n",
    "        except:\n",
    "            phone.append('nan') \n",
    "            \n",
    "        try:\n",
    "            category.append(data.find_element(By.XPATH,'//span[@class=\"YhemCb\"]').text)\n",
    "        except:\n",
    "            category.append('nan') \n",
    "\n",
    "        # data.find_element(By.XPATH,'//div[@class=\"QU77pf\"]').click()\n",
    "    \n",
    "    browser.find_element(By.XPATH,'//a[@id=\"pnnext\"]').click()   \n"
   ]
  },
  {
   "cell_type": "code",
   "execution_count": 104,
   "id": "ade9063a-8118-4142-b0c9-b90ececc6331",
   "metadata": {},
   "outputs": [],
   "source": [
    "df = pd.DataFrame({\n",
    "        'Name':name,\n",
    "        'Address':address,\n",
    "        'Phone':phone,\n",
    "        'Category':category,\n",
    "    'star':star\n",
    "    \n",
    "\n",
    "    })\n",
    "df.to_csv('Accessories business in gurgaon.csv',index=False)"
   ]
  },
  {
   "cell_type": "code",
   "execution_count": 68,
   "id": "09e453b6-44d1-4602-a58b-b193a0fa9154",
   "metadata": {},
   "outputs": [
    {
     "name": "stdout",
     "output_type": "stream",
     "text": [
      "total 0\n"
     ]
    }
   ],
   "source": [
    "browser.implicitly_wait(5)\n",
    "keepScrolling=True\n",
    "while(keepScrolling):\n",
    "    main=browser.find_element(By.XPATH,'//div[@role=\"feed\"]')\n",
    "    browser.execute_script('arguments[0].scrollBy(0, document.body.scrollHeight);', main)\n",
    "    sleep(0.5)\n",
    "    html =browser.find_element(By.TAG_NAME, \"html\").get_attribute('outerHTML')\n",
    "    if(html.find(\"You've reached the end of the list.\")!=-1):\n",
    "        keepScrolling=False\n",
    "\n",
    "    # -----------------------------------------------------------------------------#\n",
    "    \n",
    "c=0\n",
    "div=[] \n",
    "div_link=[]\n",
    "for i in (browser.find_elements(By.XPATH,'//a[@class=\"hfpxzc\"]')):\n",
    "    div_link.append(i.get_attribute('href'))\n",
    "for i in (browser.find_elements(By.XPATH,'//div[@class=\"qBF1Pd fontHeadlineSmall \"]')):\n",
    "    div.append(i.text)\n",
    "    c+=1      \n",
    "print(\"total\",c)\n",
    "    # -----------------------------------------------------------------------------#\n",
    "name=[]\n",
    "address=[]\n",
    "phone=[]\n",
    "category=[]\n",
    "city=[]\n",
    "state=[]\n",
    "country=[]\n",
    "website=[]\n",
    "s=0\n",
    "for url in div_link:\n",
    "    browser.get(url)\n",
    "        \n",
    "        #scroll\n",
    "    sleep(0.2)\n",
    "    keepScrolling=True\n",
    "    while(keepScrolling):\n",
    "        main=browser.find_element(By.XPATH,'//div[@class=\"m6QErb \"]')\n",
    "        browser.execute_script('arguments[0].scrollBy(0, document.body.scrollHeight);', main)\n",
    "        html =browser.find_element(By.XPATH,'//span[@class=\"GMtm7c fontTitleSmall\"]').text\n",
    "        if(html==\"Suggest an edit\"):\n",
    "            keepScrolling=False\n",
    "                \n",
    "    #phone\n",
    "    try:\n",
    "        for i in browser.find_elements(By.XPATH,'//div[@class=\"rogA2c \"]//div[@class=\"Io6YTe fontBodyMedium \"]'):\n",
    "            ph=' '\n",
    "            k=i.text\n",
    "            if k.startswith('+') or k.startswith('(') or (k.replace(' ','')).isdigit(): \n",
    "                ph=k\n",
    "                break\n",
    "            \n",
    "        phone.append(ph)\n",
    "    except:\n",
    "        phone.append(\"nan\")\n",
    "\n",
    "    # name\n",
    "    try:\n",
    "        name.append(browser.find_element(By.XPATH,'//h1[@class=\"DUwDvf fontHeadlineLarge\"]').text)\n",
    "    except:\n",
    "        name.append('nan')\n",
    "\n",
    "\n",
    "        #website    \n",
    "    try:\n",
    "        website.append(browser.find_element(By.XPATH,'//div[@class=\"rogA2c ITvuef\"]//div[@class=\"Io6YTe fontBodyMedium \"]').text)\n",
    "    except:\n",
    "        website.append('nan')\n",
    "\n",
    "\n",
    "    # category\n",
    "    try:\n",
    "        category.append(browser.find_element(By.XPATH,'//button[@class=\"DkEaL \"]').text)\n",
    "    except:\n",
    "        category.append('nan')\n",
    "\n",
    "    sleep(0.1)\n",
    "\n",
    "       \n",
    "        # Address    \n",
    "    try:\n",
    "        m=browser.find_element(By.XPATH,'//div[@class=\"rogA2c \"]//div[@class=\"Io6YTe fontBodyMedium \"]').text\n",
    "        if (\"+\" in m) or \"(\" in m or (m.replace(' ','')).isdigit() :\n",
    "            address.append('nan')\n",
    "        else:\n",
    "            address.append(m)\n",
    "    except:\n",
    "        address.append('nan')\n",
    "        \n",
    "\n",
    "\n",
    "    \n",
    "       \n",
    "    print(\"Scrape No.\",s+1)\n",
    "    s+=1\n"
   ]
  },
  {
   "cell_type": "code",
   "execution_count": 57,
   "id": "eea562ca-019e-40fa-9545-2ea59573bb06",
   "metadata": {},
   "outputs": [
    {
     "data": {
      "text/plain": [
       "290"
      ]
     },
     "execution_count": 57,
     "metadata": {},
     "output_type": "execute_result"
    }
   ],
   "source": [
    "len(LinkedIn)\n",
    "# # k=LinkedIn_link\n",
    "# for i in LinkedIn_link:\n",
    "#     k.append(i)\n"
   ]
  },
  {
   "cell_type": "code",
   "execution_count": null,
   "id": "0b5f3e42-2a45-416a-b0c7-b6ec9d55807f",
   "metadata": {},
   "outputs": [],
   "source": [
    "for link in LinkedIn_link:\n",
    "    browser.get(link)\n",
    "    sleep(3)"
   ]
  },
  {
   "cell_type": "code",
   "execution_count": 79,
   "id": "4b59f962-73d3-4fdb-8a7f-93c4c07ba999",
   "metadata": {},
   "outputs": [
    {
     "name": "stdout",
     "output_type": "stream",
     "text": [
      "http://www.kolhapurbusiness.com/companyinfo/creative-sales-and-services-kolhapur-1977.html\n",
      "http://www.kolhapurbusiness.com/companyinfo/creative-sales-and-services-kolhapur-1977.html\n",
      "http://www.kolhapurbusiness.com/companyinfo/creative-sales-and-services-kolhapur-1977.html\n",
      "http://www.kolhapurbusiness.com/companyinfo/creative-sales-and-services-kolhapur-1977.html\n",
      "http://www.kolhapurbusiness.com/companyinfo/creative-sales-and-services-kolhapur-1977.html\n",
      "http://www.kolhapurbusiness.com/companyinfo/creative-sales-and-services-kolhapur-1977.html\n",
      "http://www.kolhapurbusiness.com/companyinfo/creative-sales-and-services-kolhapur-1977.html\n",
      "http://www.kolhapurbusiness.com/companyinfo/creative-sales-and-services-kolhapur-1977.html\n",
      "http://www.kolhapurbusiness.com/companyinfo/creative-sales-and-services-kolhapur-1977.html\n",
      "http://www.kolhapurbusiness.com/companyinfo/creative-sales-and-services-kolhapur-1977.html\n"
     ]
    }
   ],
   "source": [
    "url=product_link[0]\n",
    "browser.get(url)\n",
    "browser.maximize_window()\n",
    "for element in browser.find_elements(By.XPATH,'//div[@class=\"pb-5\"]//div[@class=\"col-md-12\"]') :\n",
    "    i=element.find_element(By.XPATH,'(//div[@id=\"result1\"]//div//a)[1]')\n",
    "    print(i.get_attribute('href'))\n",
    "        "
   ]
  },
  {
   "cell_type": "code",
   "execution_count": 76,
   "id": "51204059-8705-42c9-a895-a7f3a8390f89",
   "metadata": {},
   "outputs": [
    {
     "name": "stdout",
     "output_type": "stream",
     "text": [
      "http://www.kolhapurbusiness.com/companyinfo/creative-sales-and-services-kolhapur-1977.html\n"
     ]
    }
   ],
   "source": [
    "for i in element.find_elements(By.XPATH,'(//div[@id=\"result1\"]//div//a)[1]'):\n",
    "    print(i.get_attribute('href'))\n",
    "      "
   ]
  },
  {
   "cell_type": "code",
   "execution_count": null,
   "id": "0fcb5db7-0db7-447f-913a-6f1287de2af4",
   "metadata": {},
   "outputs": [],
   "source": []
  }
 ],
 "metadata": {
  "kernelspec": {
   "display_name": "Python 3 (ipykernel)",
   "language": "python",
   "name": "python3"
  },
  "language_info": {
   "codemirror_mode": {
    "name": "ipython",
    "version": 3
   },
   "file_extension": ".py",
   "mimetype": "text/x-python",
   "name": "python",
   "nbconvert_exporter": "python",
   "pygments_lexer": "ipython3",
   "version": "3.10.9"
  }
 },
 "nbformat": 4,
 "nbformat_minor": 5
}
